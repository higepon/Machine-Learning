{
 "cells": [
  {
   "cell_type": "markdown",
   "metadata": {
    "deletable": true,
    "editable": true
   },
   "source": [
    "## What is this?\n",
    "Now we have some utilities we used often. It's time to make it more useful."
   ]
  },
  {
   "cell_type": "code",
   "execution_count": 49,
   "metadata": {
    "collapsed": false,
    "deletable": true,
    "editable": true
   },
   "outputs": [
    {
     "name": "stdout",
     "output_type": "stream",
     "text": [
      "/Users/higepon/Desktop/sony_fitting-1\n",
      "[<keras.callbacks.ModelCheckpoint object at 0x1386d55f8>]\n"
     ]
    }
   ],
   "source": [
    "import sys\n",
    "import os\n",
    "from keras.models import Sequential\n",
    "from keras.layers import Dense\n",
    "from keras.layers import Activation\n",
    "from keras.layers import Dropout\n",
    "from keras.layers import LSTM\n",
    "from keras.callbacks import ModelCheckpoint\n",
    "from keras.utils import np_utils\n",
    "from keras.utils.visualize_util import plot\n",
    "from matplotlib.pyplot import show, plot\n",
    "import pandas as pd\n",
    "import numpy as np\n",
    "import math\n",
    "import random\n",
    "random.seed(0)\n",
    "\n",
    "model_name = \"sony_fitting\"\n",
    "\n",
    "def weights_dir(model_version):\n",
    "    return \"{0}/Desktop/{1}-{2}\".format(os.environ['HOME'], model_name, model_version)\n",
    "\n",
    "def best_weights_path(model_version):\n",
    "    files = os.listdir(weights_dir(model_version))\n",
    "    files.sort()\n",
    "    return \"{0}/{1}\".format(weights_dir(model_version), files[0])\n",
    "\n",
    "def default_callback_list(model_version):\n",
    "    os.makedirs(weights_dir(model_version), exist_ok=True)\n",
    "    filepath = weights_dir(model_version) + \"/{loss:.4f}\"\n",
    "    checkpoint = ModelCheckpoint(filepath, monitor='loss', verbose=1, save_best_only=True, mode='min')\n",
    "    return [checkpoint]\n",
    "\n",
    "    \n",
    "print(weights_dir(1))\n",
    "#print(best_model_path(1))\n",
    "print(default_callback_list(1))\n"
   ]
  },
  {
   "cell_type": "markdown",
   "metadata": {
    "collapsed": true,
    "deletable": true,
    "editable": true
   },
   "source": [
    "## Let's use this for Sony data"
   ]
  },
  {
   "cell_type": "code",
   "execution_count": 34,
   "metadata": {
    "collapsed": false
   },
   "outputs": [
    {
     "name": "stdout",
     "output_type": "stream",
     "text": [
      "prices.shape (2449,)\n"
     ]
    }
   ],
   "source": [
    "# load\n",
    "df = pd.read_csv(\"../../dont_remove_data/sony.csv\", header=None)\n",
    "df[1] = df[1].astype('float32')\n",
    "df[1] = df[1].apply(lambda x: x / 10000)\n",
    "prices = df[1]\n",
    "print(\"prices.shape\", prices.shape)\n"
   ]
  },
  {
   "cell_type": "code",
   "execution_count": 30,
   "metadata": {
    "collapsed": false
   },
   "outputs": [
    {
     "name": "stdout",
     "output_type": "stream",
     "text": [
      "[ 0.518  0.   ]\n",
      "X.shape (2249, 200, 1)\n",
      "Y.shape (2249, 2)\n"
     ]
    }
   ],
   "source": [
    "# we use last 200 days data\n",
    "nb_prev = 200 # to be 200\n",
    "\n",
    "X = []\n",
    "Y = []\n",
    "\n",
    "for i in range(len(prices)-nb_prev):\n",
    "    X.append(prices.iloc[i:i+nb_prev].as_matrix())\n",
    "    mixed_Y_i = np.array([prices.iloc[i+nb_prev], 1 if prices.iloc[i+nb_prev] - prices.iloc[i+nb_prev - 1] > 0 else 0])\n",
    "    Y.append(mixed_Y_i)\n",
    "    if i == 0:\n",
    "        print(mixed_Y_i)\n",
    "\n",
    "X = np.array(X).reshape(-1, nb_prev, 1)\n",
    "print(\"X.shape\", X.shape)\n",
    "Y = np.array(Y)\n",
    "#Y = np.array(Y).reshape(-1, 2)\n",
    "print(\"Y.shape\", Y.shape)\n"
   ]
  },
  {
   "cell_type": "code",
   "execution_count": 35,
   "metadata": {
    "collapsed": false
   },
   "outputs": [
    {
     "name": "stdout",
     "output_type": "stream",
     "text": [
      "test_data_size 225\n",
      "(2024, 200, 1)\n",
      "(2024, 2)\n",
      "X_test.shape (225, 200, 1)\n",
      "Y_test.shape (225, 2)\n"
     ]
    }
   ],
   "source": [
    "# randomly split the data\n",
    "test_size = 0.1\n",
    "nb_train = int(round(len(X) * (1 - test_size)))\n",
    "print(\"test_data_size\", len(X) - nb_train)\n",
    "shuffle = False\n",
    "\n",
    "if shuffle:\n",
    "    indices = np.random.permutation(X.shape[0])\n",
    "    training_idx, test_idx = indices[:nb_train], indices[nb_train:]\n",
    "    X_train, X_test = X[training_idx,:], X[test_idx,:]\n",
    "    Y_train, Y_test = Y[training_idx,:], Y[test_idx,:]\n",
    "else:\n",
    "    X_train, X_test = X[:nb_train], X[nb_train:]\n",
    "    Y_train, Y_test = Y[:nb_train], Y[nb_train:]    \n",
    "\n",
    "print(X_train.shape)\n",
    "print(Y_train.shape)\n",
    "print(\"X_test.shape\", X_test.shape)\n",
    "print(\"Y_test.shape\", Y_test.shape)"
   ]
  },
  {
   "cell_type": "code",
   "execution_count": 38,
   "metadata": {
    "collapsed": false
   },
   "outputs": [
    {
     "name": "stdout",
     "output_type": "stream",
     "text": [
      "<bound method Container.summary of <keras.models.Sequential object at 0x116833438>>\n"
     ]
    }
   ],
   "source": [
    "in_out_neurons = 1\n",
    "hidden_neurons = 300\n",
    "length_of_sequences = nb_prev\n",
    "model = Sequential()  \n",
    "model.add(LSTM(hidden_neurons, batch_input_shape=(None, nb_prev, in_out_neurons), return_sequences=False))  \n",
    "model.add(Dense(2))  \n",
    "model.add(Activation(\"linear\"))  \n",
    "model.compile(loss=\"mean_squared_error\", optimizer=\"adam\")\n",
    "\n",
    "print(model.summary)"
   ]
  },
  {
   "cell_type": "code",
   "execution_count": 45,
   "metadata": {
    "collapsed": false
   },
   "outputs": [
    {
     "name": "stdout",
     "output_type": "stream",
     "text": [
      "(2024, 200, 1)\n",
      "(2024, 2)\n",
      "Train on 1922 samples, validate on 102 samples\n",
      "Epoch 1/20\n",
      "1800/1922 [===========================>..] - ETA: 3s - loss: 0.1439 \b\b\b\b\b\b\b\b\b\b\b\b\b\b\b\b\b\b\b\b\b\b\b\b\b\b\b\b\b\b\b\b\b\b\b\b\b\b\b\b\b\b\b\b\b\b\b\b\b\b\b\b\b\b\b\b\b\b\b\b\b\b\b\b\b\b\b\b\b\b\b\b\b\b\b\b\b\b\b\b\b\b\b\b\b\b\b\b\b\b\b\b\b\b\b\b\b\b\b\b\b\b\b\b\b\b\b\b\b\b\b\b\b\b\b\b\b\b\b\b\b\b\b\b\b\b\b\b\b\b\b\b\b\b\b\bEpoch 00000: loss improved from inf to 0.14312, saving model to /Users/higepon/Desktop/sony_fitting-1/0.1431\n",
      "1922/1922 [==============================] - 53s - loss: 0.1431 - val_loss: 0.1257\n",
      "Epoch 2/20\n",
      "1800/1922 [===========================>..] - ETA: 3s - loss: 0.1355 \b\b\b\b\b\b\b\b\b\b\b\b\b\b\b\b\b\b\b\b\b\b\b\b\b\b\b\b\b\b\b\b\b\b\b\b\b\b\b\b\b\b\b\b\b\b\b\b\b\b\b\b\b\b\b\b\b\b\b\b\b\b\b\b\b\b\b\b\b\b\b\b\b\b\b\b\b\b\b\b\b\b\b\b\b\b\b\b\b\b\b\b\b\b\b\b\b\b\b\b\b\b\b\b\b\b\b\b\b\b\b\b\b\b\b\b\b\b\b\b\b\b\b\b\b\b\b\b\b\b\b\b\b\b\b\bEpoch 00001: loss improved from 0.14312 to 0.13564, saving model to /Users/higepon/Desktop/sony_fitting-1/0.1356\n",
      "1922/1922 [==============================] - 54s - loss: 0.1356 - val_loss: 0.1307\n",
      "Epoch 3/20\n",
      "1800/1922 [===========================>..] - ETA: 3s - loss: 0.1349 \b\b\b\b\b\b\b\b\b\b\b\b\b\b\b\b\b\b\b\b\b\b\b\b\b\b\b\b\b\b\b\b\b\b\b\b\b\b\b\b\b\b\b\b\b\b\b\b\b\b\b\b\b\b\b\b\b\b\b\b\b\b\b\b\b\b\b\b\b\b\b\b\b\b\b\b\b\b\b\b\b\b\b\b\b\b\b\b\b\b\b\b\b\b\b\b\b\b\b\b\b\b\b\b\b\b\b\b\b\b\b\b\b\b\b\b\b\b\b\b\b\b\b\b\b\b\b\b\b\b\b\b\b\b\b\bEpoch 00002: loss improved from 0.13564 to 0.13472, saving model to /Users/higepon/Desktop/sony_fitting-1/0.1347\n",
      "1922/1922 [==============================] - 55s - loss: 0.1347 - val_loss: 0.1264\n",
      "Epoch 4/20\n",
      "1800/1922 [===========================>..] - ETA: 3s - loss: 0.1281 \b\b\b\b\b\b\b\b\b\b\b\b\b\b\b\b\b\b\b\b\b\b\b\b\b\b\b\b\b\b\b\b\b\b\b\b\b\b\b\b\b\b\b\b\b\b\b\b\b\b\b\b\b\b\b\b\b\b\b\b\b\b\b\b\b\b\b\b\b\b\b\b\b\b\b\b\b\b\b\b\b\b\b\b\b\b\b\b\b\b\b\b\b\b\b\b\b\b\b\b\b\b\b\b\b\b\b\b\b\b\b\b\b\b\b\b\b\b\b\b\b\b\b\b\b\b\b\b\b\b\b\b\b\b\b\bEpoch 00003: loss improved from 0.13472 to 0.12838, saving model to /Users/higepon/Desktop/sony_fitting-1/0.1284\n",
      "1922/1922 [==============================] - 57s - loss: 0.1284 - val_loss: 0.1329\n",
      "Epoch 5/20\n",
      "1800/1922 [===========================>..] - ETA: 3s - loss: 0.1285 \b\b\b\b\b\b\b\b\b\b\b\b\b\b\b\b\b\b\b\b\b\b\b\b\b\b\b\b\b\b\b\b\b\b\b\b\b\b\b\b\b\b\b\b\b\b\b\b\b\b\b\b\b\b\b\b\b\b\b\b\b\b\b\b\b\b\b\b\b\b\b\b\b\b\b\b\b\b\b\b\b\b\b\b\b\b\b\b\b\b\b\b\b\b\b\b\b\b\b\b\b\b\b\b\b\b\b\b\b\b\b\b\b\b\b\b\b\b\b\b\b\b\b\b\b\b\b\b\b\b\b\b\b\b\b\bEpoch 00004: loss improved from 0.12838 to 0.12833, saving model to /Users/higepon/Desktop/sony_fitting-1/0.1283\n",
      "1922/1922 [==============================] - 61s - loss: 0.1283 - val_loss: 0.1252\n",
      "Epoch 6/20\n",
      "1800/1922 [===========================>..] - ETA: 3s - loss: 0.1264 \b\b\b\b\b\b\b\b\b\b\b\b\b\b\b\b\b\b\b\b\b\b\b\b\b\b\b\b\b\b\b\b\b\b\b\b\b\b\b\b\b\b\b\b\b\b\b\b\b\b\b\b\b\b\b\b\b\b\b\b\b\b\b\b\b\b\b\b\b\b\b\b\b\b\b\b\b\b\b\b\b\b\b\b\b\b\b\b\b\b\b\b\b\b\b\b\b\b\b\b\b\b\b\b\b\b\b\b\b\b\b\b\b\b\b\b\b\b\b\b\b\b\b\b\b\b\b\b\b\b\b\b\b\b\b\bEpoch 00005: loss improved from 0.12833 to 0.12627, saving model to /Users/higepon/Desktop/sony_fitting-1/0.1263\n",
      "1922/1922 [==============================] - 63s - loss: 0.1263 - val_loss: 0.1256\n",
      "Epoch 7/20\n",
      "1800/1922 [===========================>..] - ETA: 4s - loss: 0.1267 \b\b\b\b\b\b\b\b\b\b\b\b\b\b\b\b\b\b\b\b\b\b\b\b\b\b\b\b\b\b\b\b\b\b\b\b\b\b\b\b\b\b\b\b\b\b\b\b\b\b\b\b\b\b\b\b\b\b\b\b\b\b\b\b\b\b\b\b\b\b\b\b\b\b\b\b\b\b\b\b\b\b\b\b\b\b\b\b\b\b\b\b\b\b\b\b\b\b\b\b\b\b\b\b\b\b\b\b\b\b\b\b\b\b\b\b\b\b\b\b\b\b\b\b\b\b\b\b\b\b\b\b\b\b\b\bEpoch 00006: loss did not improve\n",
      "1922/1922 [==============================] - 64s - loss: 0.1268 - val_loss: 0.1250\n",
      "Epoch 8/20\n",
      "1800/1922 [===========================>..] - ETA: 3s - loss: 0.1261 \b\b\b\b\b\b\b\b\b\b\b\b\b\b\b\b\b\b\b\b\b\b\b\b\b\b\b\b\b\b\b\b\b\b\b\b\b\b\b\b\b\b\b\b\b\b\b\b\b\b\b\b\b\b\b\b\b\b\b\b\b\b\b\b\b\b\b\b\b\b\b\b\b\b\b\b\b\b\b\b\b\b\b\b\b\b\b\b\b\b\b\b\b\b\b\b\b\b\b\b\b\b\b\b\b\b\b\b\b\b\b\b\b\b\b\b\b\b\b\b\b\b\b\b\b\b\b\b\b\b\b\b\b\b\b\bEpoch 00007: loss improved from 0.12627 to 0.12606, saving model to /Users/higepon/Desktop/sony_fitting-1/0.1261\n",
      "1922/1922 [==============================] - 56s - loss: 0.1261 - val_loss: 0.1283\n",
      "Epoch 9/20\n",
      "1800/1922 [===========================>..] - ETA: 3s - loss: 0.1265 \b\b\b\b\b\b\b\b\b\b\b\b\b\b\b\b\b\b\b\b\b\b\b\b\b\b\b\b\b\b\b\b\b\b\b\b\b\b\b\b\b\b\b\b\b\b\b\b\b\b\b\b\b\b\b\b\b\b\b\b\b\b\b\b\b\b\b\b\b\b\b\b\b\b\b\b\b\b\b\b\b\b\b\b\b\b\b\b\b\b\b\b\b\b\b\b\b\b\b\b\b\b\b\b\b\b\b\b\b\b\b\b\b\b\b\b\b\b\b\b\b\b\b\b\b\b\b\b\b\b\b\b\b\b\b\bEpoch 00008: loss did not improve\n",
      "1922/1922 [==============================] - 51s - loss: 0.1264 - val_loss: 0.1255\n",
      "Epoch 10/20\n",
      "1800/1922 [===========================>..] - ETA: 3s - loss: 0.1253 \b\b\b\b\b\b\b\b\b\b\b\b\b\b\b\b\b\b\b\b\b\b\b\b\b\b\b\b\b\b\b\b\b\b\b\b\b\b\b\b\b\b\b\b\b\b\b\b\b\b\b\b\b\b\b\b\b\b\b\b\b\b\b\b\b\b\b\b\b\b\b\b\b\b\b\b\b\b\b\b\b\b\b\b\b\b\b\b\b\b\b\b\b\b\b\b\b\b\b\b\b\b\b\b\b\b\b\b\b\b\b\b\b\b\b\b\b\b\b\b\b\b\b\b\b\b\b\b\b\b\b\b\b\b\b\bEpoch 00009: loss improved from 0.12606 to 0.12538, saving model to /Users/higepon/Desktop/sony_fitting-1/0.1254\n",
      "1922/1922 [==============================] - 59s - loss: 0.1254 - val_loss: 0.1248\n",
      "Epoch 11/20\n",
      "1800/1922 [===========================>..] - ETA: 3s - loss: 0.1258 \b\b\b\b\b\b\b\b\b\b\b\b\b\b\b\b\b\b\b\b\b\b\b\b\b\b\b\b\b\b\b\b\b\b\b\b\b\b\b\b\b\b\b\b\b\b\b\b\b\b\b\b\b\b\b\b\b\b\b\b\b\b\b\b\b\b\b\b\b\b\b\b\b\b\b\b\b\b\b\b\b\b\b\b\b\b\b\b\b\b\b\b\b\b\b\b\b\b\b\b\b\b\b\b\b\b\b\b\b\b\b\b\b\b\b\b\b\b\b\b\b\b\b\b\b\b\b\b\b\b\b\b\b\b\b\bEpoch 00010: loss did not improve\n",
      "1922/1922 [==============================] - 58s - loss: 0.1257 - val_loss: 0.1247\n",
      "Epoch 12/20\n",
      "1800/1922 [===========================>..] - ETA: 3s - loss: 0.1262 \b\b\b\b\b\b\b\b\b\b\b\b\b\b\b\b\b\b\b\b\b\b\b\b\b\b\b\b\b\b\b\b\b\b\b\b\b\b\b\b\b\b\b\b\b\b\b\b\b\b\b\b\b\b\b\b\b\b\b\b\b\b\b\b\b\b\b\b\b\b\b\b\b\b\b\b\b\b\b\b\b\b\b\b\b\b\b\b\b\b\b\b\b\b\b\b\b\b\b\b\b\b\b\b\b\b\b\b\b\b\b\b\b\b\b\b\b\b\b\b\b\b\b\b\b\b\b\b\b\b\b\b\b\b\b\bEpoch 00011: loss did not improve\n",
      "1922/1922 [==============================] - 62s - loss: 0.1258 - val_loss: 0.1249\n",
      "Epoch 13/20\n",
      "1800/1922 [===========================>..] - ETA: 3s - loss: 0.1253 \b\b\b\b\b\b\b\b\b\b\b\b\b\b\b\b\b\b\b\b\b\b\b\b\b\b\b\b\b\b\b\b\b\b\b\b\b\b\b\b\b\b\b\b\b\b\b\b\b\b\b\b\b\b\b\b\b\b\b\b\b\b\b\b\b\b\b\b\b\b\b\b\b\b\b\b\b\b\b\b\b\b\b\b\b\b\b\b\b\b\b\b\b\b\b\b\b\b\b\b\b\b\b\b\b\b\b\b\b\b\b\b\b\b\b\b\b\b\b\b\b\b\b\b\b\b\b\b\b\b\b\b\b\b\b\bEpoch 00012: loss improved from 0.12538 to 0.12531, saving model to /Users/higepon/Desktop/sony_fitting-1/0.1253\n",
      "1922/1922 [==============================] - 57s - loss: 0.1253 - val_loss: 0.1255\n",
      "Epoch 14/20\n",
      "1800/1922 [===========================>..] - ETA: 3s - loss: 0.1255 \b\b\b\b\b\b\b\b\b\b\b\b\b\b\b\b\b\b\b\b\b\b\b\b\b\b\b\b\b\b\b\b\b\b\b\b\b\b\b\b\b\b\b\b\b\b\b\b\b\b\b\b\b\b\b\b\b\b\b\b\b\b\b\b\b\b\b\b\b\b\b\b\b\b\b\b\b\b\b\b\b\b\b\b\b\b\b\b\b\b\b\b\b\b\b\b\b\b\b\b\b\b\b\b\b\b\b\b\b\b\b\b\b\b\b\b\b\b\b\b\b\b\b\b\b\b\b\b\b\b\b\b\b\b\b\bEpoch 00013: loss did not improve\n",
      "1922/1922 [==============================] - 59s - loss: 0.1254 - val_loss: 0.1248\n",
      "Epoch 15/20\n",
      "1800/1922 [===========================>..] - ETA: 3s - loss: 0.1251 \b\b\b\b\b\b\b\b\b\b\b\b\b\b\b\b\b\b\b\b\b\b\b\b\b\b\b\b\b\b\b\b\b\b\b\b\b\b\b\b\b\b\b\b\b\b\b\b\b\b\b\b\b\b\b\b\b\b\b\b\b\b\b\b\b\b\b\b\b\b\b\b\b\b\b\b\b\b\b\b\b\b\b\b\b\b\b\b\b\b\b\b\b\b\b\b\b\b\b\b\b\b\b\b\b\b\b\b\b\b\b\b\b\b\b\b\b\b\b\b\b\b\b\b\b\b\b\b\b\b\b\b\b\b\b\bEpoch 00014: loss improved from 0.12531 to 0.12509, saving model to /Users/higepon/Desktop/sony_fitting-1/0.1251\n",
      "1922/1922 [==============================] - 53s - loss: 0.1251 - val_loss: 0.1250\n",
      "Epoch 16/20\n",
      "1800/1922 [===========================>..] - ETA: 3s - loss: 0.1251 \b\b\b\b\b\b\b\b\b\b\b\b\b\b\b\b\b\b\b\b\b\b\b\b\b\b\b\b\b\b\b\b\b\b\b\b\b\b\b\b\b\b\b\b\b\b\b\b\b\b\b\b\b\b\b\b\b\b\b\b\b\b\b\b\b\b\b\b\b\b\b\b\b\b\b\b\b\b\b\b\b\b\b\b\b\b\b\b\b\b\b\b\b\b\b\b\b\b\b\b\b\b\b\b\b\b\b\b\b\b\b\b\b\b\b\b\b\b\b\b\b\b\b\b\b\b\b\b\b\b\b\b\b\b\b\bEpoch 00015: loss improved from 0.12509 to 0.12501, saving model to /Users/higepon/Desktop/sony_fitting-1/0.1250\n",
      "1922/1922 [==============================] - 51s - loss: 0.1250 - val_loss: 0.1248\n",
      "Epoch 17/20\n",
      "1800/1922 [===========================>..] - ETA: 4s - loss: 0.1253 \b\b\b\b\b\b\b\b\b\b\b\b\b\b\b\b\b\b\b\b\b\b\b\b\b\b\b\b\b\b\b\b\b\b\b\b\b\b\b\b\b\b\b\b\b\b\b\b\b\b\b\b\b\b\b\b\b\b\b\b\b\b\b\b\b\b\b\b\b\b\b\b\b\b\b\b\b\b\b\b\b\b\b\b\b\b\b\b\b\b\b\b\b\b\b\b\b\b\b\b\b\b\b\b\b\b\b\b\b\b\b\b\b\b\b\b\b\b\b\b\b\b\b\b\b\b\b\b\b\b\b\b\b\b\b\bEpoch 00016: loss did not improve\n",
      "1922/1922 [==============================] - 63s - loss: 0.1252 - val_loss: 0.1245\n",
      "Epoch 18/20\n",
      "1800/1922 [===========================>..] - ETA: 3s - loss: 0.1250 \b\b\b\b\b\b\b\b\b\b\b\b\b\b\b\b\b\b\b\b\b\b\b\b\b\b\b\b\b\b\b\b\b\b\b\b\b\b\b\b\b\b\b\b\b\b\b\b\b\b\b\b\b\b\b\b\b\b\b\b\b\b\b\b\b\b\b\b\b\b\b\b\b\b\b\b\b\b\b\b\b\b\b\b\b\b\b\b\b\b\b\b\b\b\b\b\b\b\b\b\b\b\b\b\b\b\b\b\b\b\b\b\b\b\b\b\b\b\b\b\b\b\b\b\b\b\b\b\b\b\b\b\b\b\b\bEpoch 00017: loss did not improve\n",
      "1922/1922 [==============================] - 59s - loss: 0.1250 - val_loss: 0.1245\n",
      "Epoch 19/20\n",
      "1800/1922 [===========================>..] - ETA: 3s - loss: 0.1251 \b\b\b\b\b\b\b\b\b\b\b\b\b\b\b\b\b\b\b\b\b\b\b\b\b\b\b\b\b\b\b\b\b\b\b\b\b\b\b\b\b\b\b\b\b\b\b\b\b\b\b\b\b\b\b\b\b\b\b\b\b\b\b\b\b\b\b\b\b\b\b\b\b\b\b\b\b\b\b\b\b\b\b\b\b\b\b\b\b\b\b\b\b\b\b\b\b\b\b\b\b\b\b\b\b\b\b\b\b\b\b\b\b\b\b\b\b\b\b\b\b\b\b\b\b\b\b\b\b\b\b\b\b\b\b\bEpoch 00018: loss did not improve\n",
      "1922/1922 [==============================] - 52s - loss: 0.1251 - val_loss: 0.1248\n",
      "Epoch 20/20\n",
      "1800/1922 [===========================>..] - ETA: 3s - loss: 0.1251 \b\b\b\b\b\b\b\b\b\b\b\b\b\b\b\b\b\b\b\b\b\b\b\b\b\b\b\b\b\b\b\b\b\b\b\b\b\b\b\b\b\b\b\b\b\b\b\b\b\b\b\b\b\b\b\b\b\b\b\b\b\b\b\b\b\b\b\b\b\b\b\b\b\b\b\b\b\b\b\b\b\b\b\b\b\b\b\b\b\b\b\b\b\b\b\b\b\b\b\b\b\b\b\b\b\b\b\b\b\b\b\b\b\b\b\b\b\b\b\b\b\b\b\b\b\b\b\b\b\b\b\b\b\b\b\bEpoch 00019: loss did not improve\n",
      "1922/1922 [==============================] - 51s - loss: 0.1251 - val_loss: 0.1248\n"
     ]
    }
   ],
   "source": [
    "def train(model_version):\n",
    "    print(X_train.shape)\n",
    "    print(Y_train.shape)\n",
    "    model.fit(X_train, Y_train, batch_size=600, nb_epoch=20, validation_split=0.05, callbacks=default_callback_list(model_version))\n",
    "    \n",
    "train(1)\n",
    "\n"
   ]
  },
  {
   "cell_type": "code",
   "execution_count": 56,
   "metadata": {
    "collapsed": false
   },
   "outputs": [
    {
     "name": "stdout",
     "output_type": "stream",
     "text": [
      "/Users/higepon/Desktop/sony_fitting-1/0.1250\n",
      "(225, 2)\n"
     ]
    }
   ],
   "source": [
    "print(best_weights_path(1))\n",
    "model.load_weights(best_weights_path(1))   \n",
    "predicted = model.predict(X_test)\n",
    "print(predicted.shape)\n"
   ]
  },
  {
   "cell_type": "code",
   "execution_count": 57,
   "metadata": {
    "collapsed": false
   },
   "outputs": [
    {
     "name": "stdout",
     "output_type": "stream",
     "text": [
      "[ 0.46565825  0.46585155  0.46629769  0.46680111  0.46728373  0.46774951\n",
      "  0.46820939  0.4686074   0.46892369  0.46910295  0.46917602  0.46921325\n",
      "  0.46923596  0.46931732  0.46945363  0.46957457  0.46970177  0.46981016\n",
      "  0.46987319  0.46991974  0.46998319  0.47002846  0.47007364  0.47013754\n",
      "  0.47021344  0.47034314  0.47052783  0.4707036   0.4708851   0.47108775\n",
      "  0.47133335  0.47161448  0.47188202  0.47215259  0.47242826  0.47269598\n",
      "  0.47293746  0.47309113  0.47313681  0.47309661  0.47297162  0.47278792\n",
      "  0.47255629  0.47226846  0.47187638  0.47141355  0.47095165  0.47049424\n",
      "  0.47000399  0.46950018  0.46904361  0.46869293  0.46846852  0.46835688\n",
      "  0.46822804  0.46805429  0.46790203  0.46783933  0.46783715  0.46785593\n",
      "  0.46785086  0.46779445  0.46775216  0.46765482  0.46745279  0.46719193\n",
      "  0.46689302  0.46664286  0.4664312   0.46629977  0.46628559  0.46635011\n",
      "  0.46647316  0.46669093  0.46696272  0.46725503  0.46753147  0.46781558\n",
      "  0.46815658  0.46851939  0.46886697  0.4691624   0.46940798  0.46959382\n",
      "  0.46969914  0.46969509  0.46962059  0.46952325  0.46939653  0.46923941\n",
      "  0.46903777  0.46875548  0.46840173  0.46803761  0.46767288  0.46731752\n",
      "  0.46696922  0.46666244  0.46641693  0.46627361  0.46616051  0.46596169\n",
      "  0.46574146  0.46562028  0.46560553  0.46564937  0.4657487   0.46586677\n",
      "  0.46600044  0.4661538   0.46630585  0.46648645  0.46671963  0.46693057\n",
      "  0.46710539  0.46727502  0.46742889  0.46758348  0.46769845  0.46775454\n",
      "  0.46773976  0.46765634  0.46752694  0.46735561  0.46719706  0.46706802\n",
      "  0.46692225  0.46674418  0.46654767  0.46636194  0.46616402  0.4659681\n",
      "  0.46579891  0.46564037  0.46547192  0.46528977  0.46506107  0.46481583\n",
      "  0.46457767  0.46434394  0.46413445  0.46394601  0.46379063  0.46367317\n",
      "  0.46357507  0.46349233  0.46342176  0.46332926  0.46324432  0.46319473\n",
      "  0.46316493  0.46315956  0.46318841  0.46319205  0.46315074  0.4630878\n",
      "  0.46300393  0.46291214  0.4628064   0.46268106  0.46258515  0.46255851\n",
      "  0.46252853  0.46249551  0.46249884  0.46251428  0.46252286  0.46252692\n",
      "  0.4625352   0.46256828  0.4626202   0.46267605  0.46271729  0.46273649\n",
      "  0.46277744  0.46283334  0.46286449  0.46289879  0.46291953  0.46290964\n",
      "  0.46286434  0.46278244  0.46267647  0.46254379  0.46240208  0.46226746\n",
      "  0.46213949  0.46203497  0.46192676  0.46182162  0.46171591  0.46161005\n",
      "  0.46156186  0.46155909  0.46158469  0.46164715  0.46174589  0.4618589\n",
      "  0.46198195  0.46212399  0.46229893  0.46252653  0.46279716  0.46305853\n",
      "  0.46327817  0.46347904  0.46369004  0.46385905  0.46394038  0.4639706\n",
      "  0.46397418  0.46394962  0.46390402  0.46390033  0.46392593  0.46395504\n",
      "  0.46399945  0.46405894  0.46412414  0.46417239  0.46420857  0.46422502\n",
      "  0.46421778  0.46418136  0.46410936]\n"
     ]
    }
   ],
   "source": [
    "prices_prediction = predicted[:,0]\n",
    "up_down_prediction = predicted[:,1]\n",
    "print(up_down_prediction)"
   ]
  },
  {
   "cell_type": "code",
   "execution_count": 58,
   "metadata": {
    "collapsed": false
   },
   "outputs": [
    {
     "data": {
      "image/png": "[encoded data removed]",
      "text/plain": [
       "<matplotlib.figure.Figure at 0x118ad06a0>"
      ]
     },
     "metadata": {},
     "output_type": "display_data"
    }
   ],
   "source": [
    "dataf =  pd.DataFrame(prices_prediction)\n",
    "dataf.columns = [\"predict\"]\n",
    "dataf[\"target\"] = Y_test[:,0]\n",
    "dataf.plot(figsize=(15, 5))\n",
    "show()    "
   ]
  },
  {
   "cell_type": "code",
   "execution_count": 59,
   "metadata": {
    "collapsed": false
   },
   "outputs": [
    {
     "name": "stdout",
     "output_type": "stream",
     "text": [
      "[ 0.  0.  0.  0.  0.  0.  0.  0.  0.  0.  0.  0.  0.  0.  0.  0.  0.  0.\n",
      "  0.  0.  0.  0.  0.  0.  0.  0.  0.  0.  0.  0.  0.  0.  0.  0.  0.  0.\n",
      "  0.  0.  0.  0.  0.  0.  0.  0.  0.  0.  0.  0.  0.  0.  0.  0.  0.  0.\n",
      "  0.  0.  0.  0.  0.  0.  0.  0.  0.  0.  0.  0.  0.  0.  0.  0.  0.  0.\n",
      "  0.  0.  0.  0.  0.  0.  0.  0.  0.  0.  0.  0.  0.  0.  0.  0.  0.  0.\n",
      "  0.  0.  0.  0.  0.  0.  0.  0.  0.  0.  0.  0.  0.  0.  0.  0.  0.  0.\n",
      "  0.  0.  0.  0.  0.  0.  0.  0.  0.  0.  0.  0.  0.  0.  0.  0.  0.  0.\n",
      "  0.  0.  0.  0.  0.  0.  0.  0.  0.  0.  0.  0.  0.  0.  0.  0.  0.  0.\n",
      "  0.  0.  0.  0.  0.  0.  0.  0.  0.  0.  0.  0.  0.  0.  0.  0.  0.  0.\n",
      "  0.  0.  0.  0.  0.  0.  0.  0.  0.  0.  0.  0.  0.  0.  0.  0.  0.  0.\n",
      "  0.  0.  0.  0.  0.  0.  0.  0.  0.  0.  0.  0.  0.  0.  0.  0.  0.  0.\n",
      "  0.  0.  0.  0.  0.  0.  0.  0.  0.  0.  0.  0.  0.  0.  0.  0.  0.  0.\n",
      "  0.  0.  0.  0.  0.  0.  0.  0.  0.]\n",
      "[ 0.  0.  0.  0.  0.  0.  0.  0.  1.  1.  1.  1.  0.  0.  1.  0.  1.  1.\n",
      "  1.  0.  1.  0.  1.  1.  0.  0.  1.  1.  1.  0.  1.  1.  1.  1.  0.  0.\n",
      "  1.  1.  0.  1.  0.  0.  0.  1.  0.  0.  0.  1.  1.  1.  1.  0.  0.  1.\n",
      "  1.  1.  0.  0.  0.  1.  1.  0.  0.  0.  1.  1.  0.  1.  0.  1.  1.  1.\n",
      "  0.  1.  0.  1.  1.  0.  1.  0.  1.  0.  0.  0.  1.  1.  0.  0.  0.  0.\n",
      "  1.  1.  0.  1.  0.  1.  0.  1.  0.  0.  1.  1.  0.  0.  1.  0.  1.  0.\n",
      "  1.  1.  1.  0.  1.  1.  1.  1.  0.  1.  0.  1.  1.  1.  1.  0.  0.  1.\n",
      "  1.  1.  0.  1.  0.  0.  0.  0.  0.  1.  0.  1.  1.  1.  1.  0.  0.  0.\n",
      "  0.  0.  1.  1.  1.  1.  0.  0.  1.  0.  0.  1.  0.  1.  1.  0.  0.  1.\n",
      "  0.  0.  0.  1.  1.  1.  0.  0.  0.  1.  1.  0.  0.  1.  0.  0.  0.  0.\n",
      "  0.  0.  1.  0.  0.  0.  0.  1.  0.  1.  1.  0.  1.  0.  0.  0.  1.  1.\n",
      "  1.  1.  0.  0.  1.  1.  0.  0.  0.  1.  0.  1.  1.  1.  0.  1.  1.  1.\n",
      "  0.  0.  1.  0.  1.  0.  1.  1.  0.]\n",
      "accuracy =  0.506666666667\n"
     ]
    }
   ],
   "source": [
    "# accuracy\n",
    "\n",
    "# predicted is (N, 2) 2 is two classes\n",
    "# convert it to (N, 1) where 1 is class label 0 or 1\n",
    "predicted_classes = np.around(up_down_prediction)\n",
    "target_classes = Y_test[:,1]\n",
    "print(predicted_classes)\n",
    "print(target_classes)\n",
    "\n",
    "\n",
    "# how many samples match target\n",
    "correct = np.sum(predicted_classes == target_classes)\n",
    "\n",
    "# accuracy = number correct / total number\n",
    "accuracy = correct / (len(Y_test) * 1.0)\n",
    "print(\"accuracy = \", accuracy)"
   ]
  },
  {
   "cell_type": "code",
   "execution_count": null,
   "metadata": {
    "collapsed": true
   },
   "outputs": [],
   "source": []
  }
 ],
 "metadata": {
  "kernelspec": {
   "display_name": "Python 3",
   "language": "python",
   "name": "python3"
  },
  "language_info": {
   "codemirror_mode": {
    "name": "ipython",
    "version": 3
   },
   "file_extension": ".py",
   "mimetype": "text/x-python",
   "name": "python",
   "nbconvert_exporter": "python",
   "pygments_lexer": "ipython3",
   "version": "3.5.2"
  }
 },
 "nbformat": 4,
 "nbformat_minor": 2
}
