{
 "cells": [
  {
   "cell_type": "markdown",
   "metadata": {
    "deletable": true,
    "editable": true
   },
   "source": [
    "## What is this?\n",
    "Now we have some utilities we used often. It's time to make it more useful."
   ]
  },
  {
   "cell_type": "code",
   "execution_count": 49,
   "metadata": {
    "collapsed": false,
    "deletable": true,
    "editable": true
   },
   "outputs": [
    {
     "name": "stdout",
     "output_type": "stream",
     "text": [
      "/Users/higepon/Desktop/sony_fitting-1\n",
      "[<keras.callbacks.ModelCheckpoint object at 0x1386d55f8>]\n"
     ]
    }
   ],
   "source": [
    "import sys\n",
    "import os\n",
    "from keras.models import Sequential\n",
    "from keras.layers import Dense\n",
    "from keras.layers import Activation\n",
    "from keras.layers import Dropout\n",
    "from keras.layers import LSTM\n",
    "from keras.callbacks import ModelCheckpoint\n",
    "from keras.utils import np_utils\n",
    "from keras.utils.visualize_util import plot\n",
    "from matplotlib.pyplot import show, plot\n",
    "import pandas as pd\n",
    "import numpy as np\n",
    "import math\n",
    "import random\n",
    "random.seed(0)\n",
    "\n",
    "model_name = \"sony_fitting\"\n",
    "\n",
    "def weights_dir(model_version):\n",
    "    return \"{0}/Desktop/{1}-{2}\".format(os.environ['HOME'], model_name, model_version)\n",
    "\n",
    "def best_weights_path(model_version):\n",
    "    files = os.listdir(weights_dir(model_version))\n",
    "    files.sort()\n",
    "    return \"{0}/{1}\".format(weights_dir(model_version), files[0])\n",
    "\n",
    "def default_callback_list(model_version):\n",
    "    os.makedirs(weights_dir(model_version), exist_ok=True)\n",
    "    filepath = weights_dir(model_version) + \"/{loss:.4f}\"\n",
    "    checkpoint = ModelCheckpoint(filepath, monitor='loss', verbose=1, save_best_only=True, mode='min')\n",
    "    return [checkpoint]\n",
    "\n",
    "    \n",
    "print(weights_dir(1))\n",
    "#print(best_model_path(1))\n",
    "print(default_callback_list(1))\n"
   ]
  },
  {
   "cell_type": "markdown",
   "metadata": {
    "collapsed": true,
    "deletable": true,
    "editable": true
   },
   "source": [
    "## Let's use this for Sony data"
   ]
  },
  {
   "cell_type": "code",
   "execution_count": 34,
   "metadata": {
    "collapsed": false
   },
   "outputs": [
    {
     "name": "stdout",
     "output_type": "stream",
     "text": [
      "prices.shape (2449,)\n"
     ]
    }
   ],
   "source": [
    "# load\n",
    "df = pd.read_csv(\"../../dont_remove_data/sony.csv\", header=None)\n",
    "df[1] = df[1].astype('float32')\n",
    "df[1] = df[1].apply(lambda x: x / 10000)\n",
    "prices = df[1]\n",
    "print(\"prices.shape\", prices.shape)\n"
   ]
  },
  {
   "cell_type": "code",
   "execution_count": 30,
   "metadata": {
    "collapsed": false
   },
   "outputs": [
    {
     "name": "stdout",
     "output_type": "stream",
     "text": [
      "[ 0.518  0.   ]\n",
      "X.shape (2249, 200, 1)\n",
      "Y.shape (2249, 2)\n"
     ]
    }
   ],
   "source": [
    "# we use last 200 days data\n",
    "nb_prev = 200 # to be 200\n",
    "\n",
    "X = []\n",
    "Y = []\n",
    "\n",
    "for i in range(len(prices)-nb_prev):\n",
    "    X.append(prices.iloc[i:i+nb_prev].as_matrix())\n",
    "    mixed_Y_i = np.array([prices.iloc[i+nb_prev], 1 if prices.iloc[i+nb_prev] - prices.iloc[i+nb_prev - 1] > 0 else 0])\n",
    "    Y.append(mixed_Y_i)\n",
    "    if i == 0:\n",
    "        print(mixed_Y_i)\n",
    "\n",
    "X = np.array(X).reshape(-1, nb_prev, 1)\n",
    "print(\"X.shape\", X.shape)\n",
    "Y = np.array(Y)\n",
    "#Y = np.array(Y).reshape(-1, 2)\n",
    "print(\"Y.shape\", Y.shape)\n"
   ]
  },
  {
   "cell_type": "code",
   "execution_count": 35,
   "metadata": {
    "collapsed": false
   },
   "outputs": [
    {
     "name": "stdout",
     "output_type": "stream",
     "text": [
      "test_data_size 225\n",
      "(2024, 200, 1)\n",
      "(2024, 2)\n",
      "X_test.shape (225, 200, 1)\n",
      "Y_test.shape (225, 2)\n"
     ]
    }
   ],
   "source": [
    "# randomly split the data\n",
    "test_size = 0.1\n",
    "nb_train = int(round(len(X) * (1 - test_size)))\n",
    "print(\"test_data_size\", len(X) - nb_train)\n",
    "shuffle = False\n",
    "\n",
    "if shuffle:\n",
    "    indices = np.random.permutation(X.shape[0])\n",
    "    training_idx, test_idx = indices[:nb_train], indices[nb_train:]\n",
    "    X_train, X_test = X[training_idx,:], X[test_idx,:]\n",
    "    Y_train, Y_test = Y[training_idx,:], Y[test_idx,:]\n",
    "else:\n",
    "    X_train, X_test = X[:nb_train], X[nb_train:]\n",
    "    Y_train, Y_test = Y[:nb_train], Y[nb_train:]    \n",
    "\n",
    "print(X_train.shape)\n",
    "print(Y_train.shape)\n",
    "print(\"X_test.shape\", X_test.shape)\n",
    "print(\"Y_test.shape\", Y_test.shape)"
   ]
  },
  {
   "cell_type": "code",
   "execution_count": 38,
   "metadata": {
    "collapsed": false
   },
   "outputs": [
    {
     "name": "stdout",
     "output_type": "stream",
     "text": [
      "<bound method Container.summary of <keras.models.Sequential object at 0x116833438>>\n"
     ]
    }
   ],
   "source": [
    "in_out_neurons = 1\n",
    "hidden_neurons = 300\n",
    "length_of_sequences = nb_prev\n",
    "model = Sequential()  \n",
    "model.add(LSTM(hidden_neurons, batch_input_shape=(None, nb_prev, in_out_neurons), return_sequences=False))  \n",
    "model.add(Dense(2))  \n",
    "model.add(Activation(\"linear\"))  \n",
    "model.compile(loss=\"mean_squared_error\", optimizer=\"adam\")\n",
    "\n",
    "print(model.summary)"
   ]
  },
  {
   "cell_type": "code",
   "execution_count": 45,
   "metadata": {
    "collapsed": false
   },
   "outputs": [
    {
     "name": "stdout",
     "output_type": "stream",
     "text": [
      "(2024, 200, 1)\n",
      "(2024, 2)\n",
      "Train on 1922 samples, validate on 102 samples\n",
      "Epoch 1/20\n",
      "1800/1922 [===========================>..] - ETA: 3s - loss: 0.1439 \b\b\b\b\b\b\b\b\b\b\b\b\b\b\b\b\b\b\b\b\b\b\b\b\b\b\b\b\b\b\b\b\b\b\b\b\b\b\b\b\b\b\b\b\b\b\b\b\b\b\b\b\b\b\b\b\b\b\b\b\b\b\b\b\b\b\b\b\b\b\b\b\b\b\b\b\b\b\b\b\b\b\b\b\b\b\b\b\b\b\b\b\b\b\b\b\b\b\b\b\b\b\b\b\b\b\b\b\b\b\b\b\b\b\b\b\b\b\b\b\b\b\b\b\b\b\b\b\b\b\b\b\b\b\b\bEpoch 00000: loss improved from inf to 0.14312, saving model to /Users/higepon/Desktop/sony_fitting-1/0.1431\n",
      "1922/1922 [==============================] - 53s - loss: 0.1431 - val_loss: 0.1257\n",
      "Epoch 2/20\n",
      "1800/1922 [===========================>..] - ETA: 3s - loss: 0.1355 \b\b\b\b\b\b\b\b\b\b\b\b\b\b\b\b\b\b\b\b\b\b\b\b\b\b\b\b\b\b\b\b\b\b\b\b\b\b\b\b\b\b\b\b\b\b\b\b\b\b\b\b\b\b\b\b\b\b\b\b\b\b\b\b\b\b\b\b\b\b\b\b\b\b\b\b\b\b\b\b\b\b\b\b\b\b\b\b\b\b\b\b\b\b\b\b\b\b\b\b\b\b\b\b\b\b\b\b\b\b\b\b\b\b\b\b\b\b\b\b\b\b\b\b\b\b\b\b\b\b\b\b\b\b\b\bEpoch 00001: loss improved from 0.14312 to 0.13564, saving model to /Users/higepon/Desktop/sony_fitting-1/0.1356\n",
      "1922/1922 [==============================] - 54s - loss: 0.1356 - val_loss: 0.1307\n",
      "Epoch 3/20\n",
      "1800/1922 [===========================>..] - ETA: 3s - loss: 0.1349 \b\b\b\b\b\b\b\b\b\b\b\b\b\b\b\b\b\b\b\b\b\b\b\b\b\b\b\b\b\b\b\b\b\b\b\b\b\b\b\b\b\b\b\b\b\b\b\b\b\b\b\b\b\b\b\b\b\b\b\b\b\b\b\b\b\b\b\b\b\b\b\b\b\b\b\b\b\b\b\b\b\b\b\b\b\b\b\b\b\b\b\b\b\b\b\b\b\b\b\b\b\b\b\b\b\b\b\b\b\b\b\b\b\b\b\b\b\b\b\b\b\b\b\b\b\b\b\b\b\b\b\b\b\b\b\bEpoch 00002: loss improved from 0.13564 to 0.13472, saving model to /Users/higepon/Desktop/sony_fitting-1/0.1347\n",
      "1922/1922 [==============================] - 55s - loss: 0.1347 - val_loss: 0.1264\n",
      "Epoch 4/20\n",
      "1800/1922 [===========================>..] - ETA: 3s - loss: 0.1281 \b\b\b\b\b\b\b\b\b\b\b\b\b\b\b\b\b\b\b\b\b\b\b\b\b\b\b\b\b\b\b\b\b\b\b\b\b\b\b\b\b\b\b\b\b\b\b\b\b\b\b\b\b\b\b\b\b\b\b\b\b\b\b\b\b\b\b\b\b\b\b\b\b\b\b\b\b\b\b\b\b\b\b\b\b\b\b\b\b\b\b\b\b\b\b\b\b\b\b\b\b\b\b\b\b\b\b\b\b\b\b\b\b\b\b\b\b\b\b\b\b\b\b\b\b\b\b\b\b\b\b\b\b\b\b\bEpoch 00003: loss improved from 0.13472 to 0.12838, saving model to /Users/higepon/Desktop/sony_fitting-1/0.1284\n",
      "1922/1922 [==============================] - 57s - loss: 0.1284 - val_loss: 0.1329\n",
      "Epoch 5/20\n",
      "1800/1922 [===========================>..] - ETA: 3s - loss: 0.1285 \b\b\b\b\b\b\b\b\b\b\b\b\b\b\b\b\b\b\b\b\b\b\b\b\b\b\b\b\b\b\b\b\b\b\b\b\b\b\b\b\b\b\b\b\b\b\b\b\b\b\b\b\b\b\b\b\b\b\b\b\b\b\b\b\b\b\b\b\b\b\b\b\b\b\b\b\b\b\b\b\b\b\b\b\b\b\b\b\b\b\b\b\b\b\b\b\b\b\b\b\b\b\b\b\b\b\b\b\b\b\b\b\b\b\b\b\b\b\b\b\b\b\b\b\b\b\b\b\b\b\b\b\b\b\b\bEpoch 00004: loss improved from 0.12838 to 0.12833, saving model to /Users/higepon/Desktop/sony_fitting-1/0.1283\n",
      "1922/1922 [==============================] - 61s - loss: 0.1283 - val_loss: 0.1252\n",
      "Epoch 6/20\n",
      "1800/1922 [===========================>..] - ETA: 3s - loss: 0.1264 \b\b\b\b\b\b\b\b\b\b\b\b\b\b\b\b\b\b\b\b\b\b\b\b\b\b\b\b\b\b\b\b\b\b\b\b\b\b\b\b\b\b\b\b\b\b\b\b\b\b\b\b\b\b\b\b\b\b\b\b\b\b\b\b\b\b\b\b\b\b\b\b\b\b\b\b\b\b\b\b\b\b\b\b\b\b\b\b\b\b\b\b\b\b\b\b\b\b\b\b\b\b\b\b\b\b\b\b\b\b\b\b\b\b\b\b\b\b\b\b\b\b\b\b\b\b\b\b\b\b\b\b\b\b\b\bEpoch 00005: loss improved from 0.12833 to 0.12627, saving model to /Users/higepon/Desktop/sony_fitting-1/0.1263\n",
      "1922/1922 [==============================] - 63s - loss: 0.1263 - val_loss: 0.1256\n",
      "Epoch 7/20\n",
      "1800/1922 [===========================>..] - ETA: 4s - loss: 0.1267 \b\b\b\b\b\b\b\b\b\b\b\b\b\b\b\b\b\b\b\b\b\b\b\b\b\b\b\b\b\b\b\b\b\b\b\b\b\b\b\b\b\b\b\b\b\b\b\b\b\b\b\b\b\b\b\b\b\b\b\b\b\b\b\b\b\b\b\b\b\b\b\b\b\b\b\b\b\b\b\b\b\b\b\b\b\b\b\b\b\b\b\b\b\b\b\b\b\b\b\b\b\b\b\b\b\b\b\b\b\b\b\b\b\b\b\b\b\b\b\b\b\b\b\b\b\b\b\b\b\b\b\b\b\b\b\bEpoch 00006: loss did not improve\n",
      "1922/1922 [==============================] - 64s - loss: 0.1268 - val_loss: 0.1250\n",
      "Epoch 8/20\n",
      "1800/1922 [===========================>..] - ETA: 3s - loss: 0.1261 \b\b\b\b\b\b\b\b\b\b\b\b\b\b\b\b\b\b\b\b\b\b\b\b\b\b\b\b\b\b\b\b\b\b\b\b\b\b\b\b\b\b\b\b\b\b\b\b\b\b\b\b\b\b\b\b\b\b\b\b\b\b\b\b\b\b\b\b\b\b\b\b\b\b\b\b\b\b\b\b\b\b\b\b\b\b\b\b\b\b\b\b\b\b\b\b\b\b\b\b\b\b\b\b\b\b\b\b\b\b\b\b\b\b\b\b\b\b\b\b\b\b\b\b\b\b\b\b\b\b\b\b\b\b\b\bEpoch 00007: loss improved from 0.12627 to 0.12606, saving model to /Users/higepon/Desktop/sony_fitting-1/0.1261\n",
      "1922/1922 [==============================] - 56s - loss: 0.1261 - val_loss: 0.1283\n",
      "Epoch 9/20\n",
      "1800/1922 [===========================>..] - ETA: 3s - loss: 0.1265 \b\b\b\b\b\b\b\b\b\b\b\b\b\b\b\b\b\b\b\b\b\b\b\b\b\b\b\b\b\b\b\b\b\b\b\b\b\b\b\b\b\b\b\b\b\b\b\b\b\b\b\b\b\b\b\b\b\b\b\b\b\b\b\b\b\b\b\b\b\b\b\b\b\b\b\b\b\b\b\b\b\b\b\b\b\b\b\b\b\b\b\b\b\b\b\b\b\b\b\b\b\b\b\b\b\b\b\b\b\b\b\b\b\b\b\b\b\b\b\b\b\b\b\b\b\b\b\b\b\b\b\b\b\b\b\bEpoch 00008: loss did not improve\n",
      "1922/1922 [==============================] - 51s - loss: 0.1264 - val_loss: 0.1255\n",
      "Epoch 10/20\n",
      "1800/1922 [===========================>..] - ETA: 3s - loss: 0.1253 \b\b\b\b\b\b\b\b\b\b\b\b\b\b\b\b\b\b\b\b\b\b\b\b\b\b\b\b\b\b\b\b\b\b\b\b\b\b\b\b\b\b\b\b\b\b\b\b\b\b\b\b\b\b\b\b\b\b\b\b\b\b\b\b\b\b\b\b\b\b\b\b\b\b\b\b\b\b\b\b\b\b\b\b\b\b\b\b\b\b\b\b\b\b\b\b\b\b\b\b\b\b\b\b\b\b\b\b\b\b\b\b\b\b\b\b\b\b\b\b\b\b\b\b\b\b\b\b\b\b\b\b\b\b\b\bEpoch 00009: loss improved from 0.12606 to 0.12538, saving model to /Users/higepon/Desktop/sony_fitting-1/0.1254\n",
      "1922/1922 [==============================] - 59s - loss: 0.1254 - val_loss: 0.1248\n",
      "Epoch 11/20\n",
      "1800/1922 [===========================>..] - ETA: 3s - loss: 0.1258 \b\b\b\b\b\b\b\b\b\b\b\b\b\b\b\b\b\b\b\b\b\b\b\b\b\b\b\b\b\b\b\b\b\b\b\b\b\b\b\b\b\b\b\b\b\b\b\b\b\b\b\b\b\b\b\b\b\b\b\b\b\b\b\b\b\b\b\b\b\b\b\b\b\b\b\b\b\b\b\b\b\b\b\b\b\b\b\b\b\b\b\b\b\b\b\b\b\b\b\b\b\b\b\b\b\b\b\b\b\b\b\b\b\b\b\b\b\b\b\b\b\b\b\b\b\b\b\b\b\b\b\b\b\b\b\bEpoch 00010: loss did not improve\n",
      "1922/1922 [==============================] - 58s - loss: 0.1257 - val_loss: 0.1247\n",
      "Epoch 12/20\n",
      "1800/1922 [===========================>..] - ETA: 3s - loss: 0.1262 \b\b\b\b\b\b\b\b\b\b\b\b\b\b\b\b\b\b\b\b\b\b\b\b\b\b\b\b\b\b\b\b\b\b\b\b\b\b\b\b\b\b\b\b\b\b\b\b\b\b\b\b\b\b\b\b\b\b\b\b\b\b\b\b\b\b\b\b\b\b\b\b\b\b\b\b\b\b\b\b\b\b\b\b\b\b\b\b\b\b\b\b\b\b\b\b\b\b\b\b\b\b\b\b\b\b\b\b\b\b\b\b\b\b\b\b\b\b\b\b\b\b\b\b\b\b\b\b\b\b\b\b\b\b\b\bEpoch 00011: loss did not improve\n",
      "1922/1922 [==============================] - 62s - loss: 0.1258 - val_loss: 0.1249\n",
      "Epoch 13/20\n",
      "1800/1922 [===========================>..] - ETA: 3s - loss: 0.1253 \b\b\b\b\b\b\b\b\b\b\b\b\b\b\b\b\b\b\b\b\b\b\b\b\b\b\b\b\b\b\b\b\b\b\b\b\b\b\b\b\b\b\b\b\b\b\b\b\b\b\b\b\b\b\b\b\b\b\b\b\b\b\b\b\b\b\b\b\b\b\b\b\b\b\b\b\b\b\b\b\b\b\b\b\b\b\b\b\b\b\b\b\b\b\b\b\b\b\b\b\b\b\b\b\b\b\b\b\b\b\b\b\b\b\b\b\b\b\b\b\b\b\b\b\b\b\b\b\b\b\b\b\b\b\b\bEpoch 00012: loss improved from 0.12538 to 0.12531, saving model to /Users/higepon/Desktop/sony_fitting-1/0.1253\n",
      "1922/1922 [==============================] - 57s - loss: 0.1253 - val_loss: 0.1255\n",
      "Epoch 14/20\n",
      "1800/1922 [===========================>..] - ETA: 3s - loss: 0.1255 \b\b\b\b\b\b\b\b\b\b\b\b\b\b\b\b\b\b\b\b\b\b\b\b\b\b\b\b\b\b\b\b\b\b\b\b\b\b\b\b\b\b\b\b\b\b\b\b\b\b\b\b\b\b\b\b\b\b\b\b\b\b\b\b\b\b\b\b\b\b\b\b\b\b\b\b\b\b\b\b\b\b\b\b\b\b\b\b\b\b\b\b\b\b\b\b\b\b\b\b\b\b\b\b\b\b\b\b\b\b\b\b\b\b\b\b\b\b\b\b\b\b\b\b\b\b\b\b\b\b\b\b\b\b\b\bEpoch 00013: loss did not improve\n",
      "1922/1922 [==============================] - 59s - loss: 0.1254 - val_loss: 0.1248\n",
      "Epoch 15/20\n",
      "1800/1922 [===========================>..] - ETA: 3s - loss: 0.1251 \b\b\b\b\b\b\b\b\b\b\b\b\b\b\b\b\b\b\b\b\b\b\b\b\b\b\b\b\b\b\b\b\b\b\b\b\b\b\b\b\b\b\b\b\b\b\b\b\b\b\b\b\b\b\b\b\b\b\b\b\b\b\b\b\b\b\b\b\b\b\b\b\b\b\b\b\b\b\b\b\b\b\b\b\b\b\b\b\b\b\b\b\b\b\b\b\b\b\b\b\b\b\b\b\b\b\b\b\b\b\b\b\b\b\b\b\b\b\b\b\b\b\b\b\b\b\b\b\b\b\b\b\b\b\b\bEpoch 00014: loss improved from 0.12531 to 0.12509, saving model to /Users/higepon/Desktop/sony_fitting-1/0.1251\n",
      "1922/1922 [==============================] - 53s - loss: 0.1251 - val_loss: 0.1250\n",
      "Epoch 16/20\n",
      "1800/1922 [===========================>..] - ETA: 3s - loss: 0.1251 \b\b\b\b\b\b\b\b\b\b\b\b\b\b\b\b\b\b\b\b\b\b\b\b\b\b\b\b\b\b\b\b\b\b\b\b\b\b\b\b\b\b\b\b\b\b\b\b\b\b\b\b\b\b\b\b\b\b\b\b\b\b\b\b\b\b\b\b\b\b\b\b\b\b\b\b\b\b\b\b\b\b\b\b\b\b\b\b\b\b\b\b\b\b\b\b\b\b\b\b\b\b\b\b\b\b\b\b\b\b\b\b\b\b\b\b\b\b\b\b\b\b\b\b\b\b\b\b\b\b\b\b\b\b\b\bEpoch 00015: loss improved from 0.12509 to 0.12501, saving model to /Users/higepon/Desktop/sony_fitting-1/0.1250\n",
      "1922/1922 [==============================] - 51s - loss: 0.1250 - val_loss: 0.1248\n",
      "Epoch 17/20\n",
      "1800/1922 [===========================>..] - ETA: 4s - loss: 0.1253 \b\b\b\b\b\b\b\b\b\b\b\b\b\b\b\b\b\b\b\b\b\b\b\b\b\b\b\b\b\b\b\b\b\b\b\b\b\b\b\b\b\b\b\b\b\b\b\b\b\b\b\b\b\b\b\b\b\b\b\b\b\b\b\b\b\b\b\b\b\b\b\b\b\b\b\b\b\b\b\b\b\b\b\b\b\b\b\b\b\b\b\b\b\b\b\b\b\b\b\b\b\b\b\b\b\b\b\b\b\b\b\b\b\b\b\b\b\b\b\b\b\b\b\b\b\b\b\b\b\b\b\b\b\b\b\bEpoch 00016: loss did not improve\n",
      "1922/1922 [==============================] - 63s - loss: 0.1252 - val_loss: 0.1245\n",
      "Epoch 18/20\n",
      "1800/1922 [===========================>..] - ETA: 3s - loss: 0.1250 \b\b\b\b\b\b\b\b\b\b\b\b\b\b\b\b\b\b\b\b\b\b\b\b\b\b\b\b\b\b\b\b\b\b\b\b\b\b\b\b\b\b\b\b\b\b\b\b\b\b\b\b\b\b\b\b\b\b\b\b\b\b\b\b\b\b\b\b\b\b\b\b\b\b\b\b\b\b\b\b\b\b\b\b\b\b\b\b\b\b\b\b\b\b\b\b\b\b\b\b\b\b\b\b\b\b\b\b\b\b\b\b\b\b\b\b\b\b\b\b\b\b\b\b\b\b\b\b\b\b\b\b\b\b\b\bEpoch 00017: loss did not improve\n",
      "1922/1922 [==============================] - 59s - loss: 0.1250 - val_loss: 0.1245\n",
      "Epoch 19/20\n",
      "1800/1922 [===========================>..] - ETA: 3s - loss: 0.1251 \b\b\b\b\b\b\b\b\b\b\b\b\b\b\b\b\b\b\b\b\b\b\b\b\b\b\b\b\b\b\b\b\b\b\b\b\b\b\b\b\b\b\b\b\b\b\b\b\b\b\b\b\b\b\b\b\b\b\b\b\b\b\b\b\b\b\b\b\b\b\b\b\b\b\b\b\b\b\b\b\b\b\b\b\b\b\b\b\b\b\b\b\b\b\b\b\b\b\b\b\b\b\b\b\b\b\b\b\b\b\b\b\b\b\b\b\b\b\b\b\b\b\b\b\b\b\b\b\b\b\b\b\b\b\b\bEpoch 00018: loss did not improve\n",
      "1922/1922 [==============================] - 52s - loss: 0.1251 - val_loss: 0.1248\n",
      "Epoch 20/20\n",
      "1800/1922 [===========================>..] - ETA: 3s - loss: 0.1251 \b\b\b\b\b\b\b\b\b\b\b\b\b\b\b\b\b\b\b\b\b\b\b\b\b\b\b\b\b\b\b\b\b\b\b\b\b\b\b\b\b\b\b\b\b\b\b\b\b\b\b\b\b\b\b\b\b\b\b\b\b\b\b\b\b\b\b\b\b\b\b\b\b\b\b\b\b\b\b\b\b\b\b\b\b\b\b\b\b\b\b\b\b\b\b\b\b\b\b\b\b\b\b\b\b\b\b\b\b\b\b\b\b\b\b\b\b\b\b\b\b\b\b\b\b\b\b\b\b\b\b\b\b\b\b\bEpoch 00019: loss did not improve\n",
      "1922/1922 [==============================] - 51s - loss: 0.1251 - val_loss: 0.1248\n"
     ]
    }
   ],
   "source": [
    "def train(model_version):\n",
    "    print(X_train.shape)\n",
    "    print(Y_train.shape)\n",
    "    model.fit(X_train, Y_train, batch_size=600, nb_epoch=20, validation_split=0.05, callbacks=default_callback_list(model_version))\n",
    "    \n",
    "train(1)\n",
    "\n"
   ]
  },
  {
   "cell_type": "code",
   "execution_count": 50,
   "metadata": {
    "collapsed": false
   },
   "outputs": [
    {
     "ename": "OSError",
     "evalue": "Unable to open file (Unable to open file: name = '<function weights_dir at 0x118fb5730>/0.1250', errno = 2, error message = 'no such file or directory', flags = 0, o_flags = 0)",
     "output_type": "error",
     "traceback": [
      "\u001b[0;31m---------------------------------------------------------------------------\u001b[0m",
      "\u001b[0;31mOSError\u001b[0m                                   Traceback (most recent call last)",
      "\u001b[0;32m<ipython-input-50-5384458a05ba>\u001b[0m in \u001b[0;36m<module>\u001b[0;34m()\u001b[0m\n\u001b[0;32m----> 1\u001b[0;31m \u001b[0mmodel\u001b[0m\u001b[0;34m.\u001b[0m\u001b[0mload_weights\u001b[0m\u001b[0;34m(\u001b[0m\u001b[0mbest_model_path\u001b[0m\u001b[0;34m(\u001b[0m\u001b[0;36m1\u001b[0m\u001b[0;34m)\u001b[0m\u001b[0;34m)\u001b[0m\u001b[0;34m\u001b[0m\u001b[0m\n\u001b[0m\u001b[1;32m      2\u001b[0m \u001b[0mpredicted\u001b[0m \u001b[0;34m=\u001b[0m \u001b[0mmodel\u001b[0m\u001b[0;34m.\u001b[0m\u001b[0mpredict\u001b[0m\u001b[0;34m(\u001b[0m\u001b[0mX_test\u001b[0m\u001b[0;34m)\u001b[0m\u001b[0;34m\u001b[0m\u001b[0m\n\u001b[1;32m      3\u001b[0m \u001b[0mprint\u001b[0m\u001b[0;34m(\u001b[0m\u001b[0mpredicted\u001b[0m\u001b[0;34m.\u001b[0m\u001b[0mshape\u001b[0m\u001b[0;34m)\u001b[0m\u001b[0;34m\u001b[0m\u001b[0m\n",
      "\u001b[0;32m/Users/higepon/.pyenv/versions/anaconda3-4.1.1/envs/tensorflow/lib/python3.5/site-packages/keras/engine/topology.py\u001b[0m in \u001b[0;36mload_weights\u001b[0;34m(self, filepath, by_name)\u001b[0m\n\u001b[1;32m   2700\u001b[0m         \"\"\"\n\u001b[1;32m   2701\u001b[0m         \u001b[0;32mimport\u001b[0m \u001b[0mh5py\u001b[0m\u001b[0;34m\u001b[0m\u001b[0m\n\u001b[0;32m-> 2702\u001b[0;31m         \u001b[0mf\u001b[0m \u001b[0;34m=\u001b[0m \u001b[0mh5py\u001b[0m\u001b[0;34m.\u001b[0m\u001b[0mFile\u001b[0m\u001b[0;34m(\u001b[0m\u001b[0mfilepath\u001b[0m\u001b[0;34m,\u001b[0m \u001b[0mmode\u001b[0m\u001b[0;34m=\u001b[0m\u001b[0;34m'r'\u001b[0m\u001b[0;34m)\u001b[0m\u001b[0;34m\u001b[0m\u001b[0m\n\u001b[0m\u001b[1;32m   2703\u001b[0m         \u001b[0;32mif\u001b[0m \u001b[0;34m'layer_names'\u001b[0m \u001b[0;32mnot\u001b[0m \u001b[0;32min\u001b[0m \u001b[0mf\u001b[0m\u001b[0;34m.\u001b[0m\u001b[0mattrs\u001b[0m \u001b[0;32mand\u001b[0m \u001b[0;34m'model_weights'\u001b[0m \u001b[0;32min\u001b[0m \u001b[0mf\u001b[0m\u001b[0;34m:\u001b[0m\u001b[0;34m\u001b[0m\u001b[0m\n\u001b[1;32m   2704\u001b[0m             \u001b[0mf\u001b[0m \u001b[0;34m=\u001b[0m \u001b[0mf\u001b[0m\u001b[0;34m[\u001b[0m\u001b[0;34m'model_weights'\u001b[0m\u001b[0;34m]\u001b[0m\u001b[0;34m\u001b[0m\u001b[0m\n",
      "\u001b[0;32m/Users/higepon/.pyenv/versions/anaconda3-4.1.1/envs/tensorflow/lib/python3.5/site-packages/h5py/_hl/files.py\u001b[0m in \u001b[0;36m__init__\u001b[0;34m(self, name, mode, driver, libver, userblock_size, swmr, **kwds)\u001b[0m\n\u001b[1;32m    270\u001b[0m \u001b[0;34m\u001b[0m\u001b[0m\n\u001b[1;32m    271\u001b[0m                 \u001b[0mfapl\u001b[0m \u001b[0;34m=\u001b[0m \u001b[0mmake_fapl\u001b[0m\u001b[0;34m(\u001b[0m\u001b[0mdriver\u001b[0m\u001b[0;34m,\u001b[0m \u001b[0mlibver\u001b[0m\u001b[0;34m,\u001b[0m \u001b[0;34m**\u001b[0m\u001b[0mkwds\u001b[0m\u001b[0;34m)\u001b[0m\u001b[0;34m\u001b[0m\u001b[0m\n\u001b[0;32m--> 272\u001b[0;31m                 \u001b[0mfid\u001b[0m \u001b[0;34m=\u001b[0m \u001b[0mmake_fid\u001b[0m\u001b[0;34m(\u001b[0m\u001b[0mname\u001b[0m\u001b[0;34m,\u001b[0m \u001b[0mmode\u001b[0m\u001b[0;34m,\u001b[0m \u001b[0muserblock_size\u001b[0m\u001b[0;34m,\u001b[0m \u001b[0mfapl\u001b[0m\u001b[0;34m,\u001b[0m \u001b[0mswmr\u001b[0m\u001b[0;34m=\u001b[0m\u001b[0mswmr\u001b[0m\u001b[0;34m)\u001b[0m\u001b[0;34m\u001b[0m\u001b[0m\n\u001b[0m\u001b[1;32m    273\u001b[0m \u001b[0;34m\u001b[0m\u001b[0m\n\u001b[1;32m    274\u001b[0m                 \u001b[0;32mif\u001b[0m \u001b[0mswmr_support\u001b[0m\u001b[0;34m:\u001b[0m\u001b[0;34m\u001b[0m\u001b[0m\n",
      "\u001b[0;32m/Users/higepon/.pyenv/versions/anaconda3-4.1.1/envs/tensorflow/lib/python3.5/site-packages/h5py/_hl/files.py\u001b[0m in \u001b[0;36mmake_fid\u001b[0;34m(name, mode, userblock_size, fapl, fcpl, swmr)\u001b[0m\n\u001b[1;32m     90\u001b[0m         \u001b[0;32mif\u001b[0m \u001b[0mswmr\u001b[0m \u001b[0;32mand\u001b[0m \u001b[0mswmr_support\u001b[0m\u001b[0;34m:\u001b[0m\u001b[0;34m\u001b[0m\u001b[0m\n\u001b[1;32m     91\u001b[0m             \u001b[0mflags\u001b[0m \u001b[0;34m|=\u001b[0m \u001b[0mh5f\u001b[0m\u001b[0;34m.\u001b[0m\u001b[0mACC_SWMR_READ\u001b[0m\u001b[0;34m\u001b[0m\u001b[0m\n\u001b[0;32m---> 92\u001b[0;31m         \u001b[0mfid\u001b[0m \u001b[0;34m=\u001b[0m \u001b[0mh5f\u001b[0m\u001b[0;34m.\u001b[0m\u001b[0mopen\u001b[0m\u001b[0;34m(\u001b[0m\u001b[0mname\u001b[0m\u001b[0;34m,\u001b[0m \u001b[0mflags\u001b[0m\u001b[0;34m,\u001b[0m \u001b[0mfapl\u001b[0m\u001b[0;34m=\u001b[0m\u001b[0mfapl\u001b[0m\u001b[0;34m)\u001b[0m\u001b[0;34m\u001b[0m\u001b[0m\n\u001b[0m\u001b[1;32m     93\u001b[0m     \u001b[0;32melif\u001b[0m \u001b[0mmode\u001b[0m \u001b[0;34m==\u001b[0m \u001b[0;34m'r+'\u001b[0m\u001b[0;34m:\u001b[0m\u001b[0;34m\u001b[0m\u001b[0m\n\u001b[1;32m     94\u001b[0m         \u001b[0mfid\u001b[0m \u001b[0;34m=\u001b[0m \u001b[0mh5f\u001b[0m\u001b[0;34m.\u001b[0m\u001b[0mopen\u001b[0m\u001b[0;34m(\u001b[0m\u001b[0mname\u001b[0m\u001b[0;34m,\u001b[0m \u001b[0mh5f\u001b[0m\u001b[0;34m.\u001b[0m\u001b[0mACC_RDWR\u001b[0m\u001b[0;34m,\u001b[0m \u001b[0mfapl\u001b[0m\u001b[0;34m=\u001b[0m\u001b[0mfapl\u001b[0m\u001b[0;34m)\u001b[0m\u001b[0;34m\u001b[0m\u001b[0m\n",
      "\u001b[0;32mh5py/_objects.pyx\u001b[0m in \u001b[0;36mh5py._objects.with_phil.wrapper (/Users/travis/build/MacPython/h5py-wheels/h5py/h5py/_objects.c:2687)\u001b[0;34m()\u001b[0m\n",
      "\u001b[0;32mh5py/_objects.pyx\u001b[0m in \u001b[0;36mh5py._objects.with_phil.wrapper (/Users/travis/build/MacPython/h5py-wheels/h5py/h5py/_objects.c:2645)\u001b[0;34m()\u001b[0m\n",
      "\u001b[0;32mh5py/h5f.pyx\u001b[0m in \u001b[0;36mh5py.h5f.open (/Users/travis/build/MacPython/h5py-wheels/h5py/h5py/h5f.c:1933)\u001b[0;34m()\u001b[0m\n",
      "\u001b[0;31mOSError\u001b[0m: Unable to open file (Unable to open file: name = '<function weights_dir at 0x118fb5730>/0.1250', errno = 2, error message = 'no such file or directory', flags = 0, o_flags = 0)"
     ]
    }
   ],
   "source": [
    "model.load_weights(best_model_path(1))   \n",
    "predicted = model.predict(X_test)\n",
    "print(predicted.shape)\n"
   ]
  },
  {
   "cell_type": "code",
   "execution_count": 41,
   "metadata": {
    "collapsed": false
   },
   "outputs": [
    {
     "name": "stdout",
     "output_type": "stream",
     "text": [
      "[ 0.50617772  0.50459057  0.50349945  0.50267947  0.50201362  0.50147915\n",
      "  0.50104564  0.50059885  0.50004685  0.49928546  0.49833038  0.49728617\n",
      "  0.49622014  0.4952592   0.49442133  0.49362621  0.49288458  0.49214876\n",
      "  0.49136978  0.49057907  0.48981515  0.48904243  0.48829308  0.48761111\n",
      "  0.48701733  0.48659119  0.48634979  0.48622492  0.48624739  0.48646039\n",
      "  0.48691216  0.48760605  0.48849174  0.48959655  0.49092621  0.49245134\n",
      "  0.49411213  0.49578479  0.49739593  0.498932    0.50036764  0.5017069\n",
      "  0.50293356  0.50399202  0.50479877  0.50537509  0.50580418  0.50608152\n",
      "  0.50617039  0.5061174   0.50604993  0.5060932   0.50631183  0.50667667\n",
      "  0.50702435  0.50730419  0.50762022  0.50806469  0.50861663  0.50919992\n",
      "  0.50973696  0.51016372  0.51050144  0.51063007  0.51044202  0.50997907\n",
      "  0.50929224  0.50851274  0.50770074  0.5069527   0.5063718   0.50595063\n",
      "  0.5057025   0.50568324  0.50586075  0.5061844   0.50662738  0.5072329\n",
      "  0.50808007  0.50913388  0.51033372  0.51161623  0.51294792  0.51428235\n",
      "  0.51554877  0.51669419  0.51774484  0.5187543   0.51970148  0.52055639\n",
      "  0.52126247  0.52174646  0.52200055  0.52208859  0.52203494  0.52185655\n",
      "  0.52158296  0.52127439  0.52099264  0.52076536  0.5204981   0.52004653\n",
      "  0.5195061   0.51906174  0.51876909  0.51860046  0.51855749  0.51861256\n",
      "  0.51875806  0.51900995  0.51936108  0.51985902  0.52053064  0.52129513\n",
      "  0.52212316  0.52305287  0.52407235  0.52517492  0.52629715  0.52737004\n",
      "  0.52835834  0.52923912  0.53003818  0.53077835  0.53152931  0.53231865\n",
      "  0.5330888   0.53381276  0.53450722  0.53519845  0.53587741  0.5365538\n",
      "  0.53726131  0.5379681   0.53863341  0.53922039  0.53969157  0.54005951\n",
      "  0.54037029  0.54062814  0.5408712   0.54111779  0.54139036  0.54170394\n",
      "  0.54203969  0.5423848   0.5427267   0.54303974  0.54335481  0.54372543\n",
      "  0.54414529  0.54461908  0.54513389  0.54561192  0.54599446  0.54629451\n",
      "  0.54650444  0.54662985  0.54667461  0.54665428  0.54664129  0.54668707\n",
      "  0.54673952  0.54678404  0.54687423  0.54698217  0.54708481  0.5471887\n",
      "  0.54731673  0.54749703  0.54773241  0.54799992  0.54828352  0.54858297\n",
      "  0.54894167  0.54936045  0.54979104  0.55023664  0.55067426  0.55104691\n",
      "  0.55133355  0.55150789  0.55157155  0.55152029  0.5513702   0.55114466\n",
      "  0.55084795  0.55048597  0.55003875  0.54949313  0.54886621  0.54817283\n",
      "  0.5474903   0.5468387   0.54620683  0.54561973  0.54508263  0.54458612\n",
      "  0.54413563  0.54376847  0.5435257   0.54344648  0.54351801  0.54367381\n",
      "  0.5438624   0.54409319  0.5443657   0.54459852  0.5447101   0.5447225\n",
      "  0.54466736  0.54455662  0.54443085  0.54437155  0.54440355  0.54450101\n",
      "  0.544689    0.5449661   0.54531449  0.54570001  0.54610628  0.54651493\n",
      "  0.54689699  0.54723459  0.54750586]\n"
     ]
    }
   ],
   "source": [
    "prices_prediction = predicted[:,0]\n",
    "up_down_prediction = predicted[:,1]\n",
    "print(up_down_prediction)"
   ]
  },
  {
   "cell_type": "code",
   "execution_count": 44,
   "metadata": {
    "collapsed": false
   },
   "outputs": [
    {
     "data": {
      "image/png": "[encoded data removed]",
      "text/plain": [
       "<matplotlib.figure.Figure at 0x118b84f98>"
      ]
     },
     "metadata": {},
     "output_type": "display_data"
    }
   ],
   "source": [
    "dataf =  pd.DataFrame(prices_prediction)\n",
    "dataf.columns = [\"predict\"]\n",
    "dataf[\"target\"] = Y_test[:,0]\n",
    "dataf.plot(figsize=(15, 5))\n",
    "show()    "
   ]
  },
  {
   "cell_type": "code",
   "execution_count": 43,
   "metadata": {
    "collapsed": false
   },
   "outputs": [
    {
     "name": "stdout",
     "output_type": "stream",
     "text": [
      "[ 1.  1.  1.  1.  1.  1.  1.  1.  1.  0.  0.  0.  0.  0.  0.  0.  0.  0.\n",
      "  0.  0.  0.  0.  0.  0.  0.  0.  0.  0.  0.  0.  0.  0.  0.  0.  0.  0.\n",
      "  0.  0.  0.  0.  1.  1.  1.  1.  1.  1.  1.  1.  1.  1.  1.  1.  1.  1.\n",
      "  1.  1.  1.  1.  1.  1.  1.  1.  1.  1.  1.  1.  1.  1.  1.  1.  1.  1.\n",
      "  1.  1.  1.  1.  1.  1.  1.  1.  1.  1.  1.  1.  1.  1.  1.  1.  1.  1.\n",
      "  1.  1.  1.  1.  1.  1.  1.  1.  1.  1.  1.  1.  1.  1.  1.  1.  1.  1.\n",
      "  1.  1.  1.  1.  1.  1.  1.  1.  1.  1.  1.  1.  1.  1.  1.  1.  1.  1.\n",
      "  1.  1.  1.  1.  1.  1.  1.  1.  1.  1.  1.  1.  1.  1.  1.  1.  1.  1.\n",
      "  1.  1.  1.  1.  1.  1.  1.  1.  1.  1.  1.  1.  1.  1.  1.  1.  1.  1.\n",
      "  1.  1.  1.  1.  1.  1.  1.  1.  1.  1.  1.  1.  1.  1.  1.  1.  1.  1.\n",
      "  1.  1.  1.  1.  1.  1.  1.  1.  1.  1.  1.  1.  1.  1.  1.  1.  1.  1.\n",
      "  1.  1.  1.  1.  1.  1.  1.  1.  1.  1.  1.  1.  1.  1.  1.  1.  1.  1.\n",
      "  1.  1.  1.  1.  1.  1.  1.  1.  1.]\n",
      "[ 0.  0.  0.  0.  0.  0.  0.  0.  1.  1.  1.  1.  0.  0.  1.  0.  1.  1.\n",
      "  1.  0.  1.  0.  1.  1.  0.  0.  1.  1.  1.  0.  1.  1.  1.  1.  0.  0.\n",
      "  1.  1.  0.  1.  0.  0.  0.  1.  0.  0.  0.  1.  1.  1.  1.  0.  0.  1.\n",
      "  1.  1.  0.  0.  0.  1.  1.  0.  0.  0.  1.  1.  0.  1.  0.  1.  1.  1.\n",
      "  0.  1.  0.  1.  1.  0.  1.  0.  1.  0.  0.  0.  1.  1.  0.  0.  0.  0.\n",
      "  1.  1.  0.  1.  0.  1.  0.  1.  0.  0.  1.  1.  0.  0.  1.  0.  1.  0.\n",
      "  1.  1.  1.  0.  1.  1.  1.  1.  0.  1.  0.  1.  1.  1.  1.  0.  0.  1.\n",
      "  1.  1.  0.  1.  0.  0.  0.  0.  0.  1.  0.  1.  1.  1.  1.  0.  0.  0.\n",
      "  0.  0.  1.  1.  1.  1.  0.  0.  1.  0.  0.  1.  0.  1.  1.  0.  0.  1.\n",
      "  0.  0.  0.  1.  1.  1.  0.  0.  0.  1.  1.  0.  0.  1.  0.  0.  0.  0.\n",
      "  0.  0.  1.  0.  0.  0.  0.  1.  0.  1.  1.  0.  1.  0.  0.  0.  1.  1.\n",
      "  1.  1.  0.  0.  1.  1.  0.  0.  0.  1.  0.  1.  1.  1.  0.  1.  1.  1.\n",
      "  0.  0.  1.  0.  1.  0.  1.  1.  0.]\n",
      "accuracy =  0.453333333333\n"
     ]
    }
   ],
   "source": [
    "# accuracy\n",
    "\n",
    "# predicted is (N, 2) 2 is two classes\n",
    "# convert it to (N, 1) where 1 is class label 0 or 1\n",
    "predicted_classes = np.around(up_down_prediction)\n",
    "target_classes = Y_test[:,1]\n",
    "print(predicted_classes)\n",
    "print(target_classes)\n",
    "\n",
    "\n",
    "# how many samples match target\n",
    "correct = np.sum(predicted_classes == target_classes)\n",
    "\n",
    "# accuracy = number correct / total number\n",
    "accuracy = correct / (len(Y_test) * 1.0)\n",
    "print(\"accuracy = \", accuracy)"
   ]
  },
  {
   "cell_type": "code",
   "execution_count": null,
   "metadata": {
    "collapsed": true
   },
   "outputs": [],
   "source": []
  }
 ],
 "metadata": {
  "kernelspec": {
   "display_name": "Python 3",
   "language": "python",
   "name": "python3"
  },
  "language_info": {
   "codemirror_mode": {
    "name": "ipython",
    "version": 3
   },
   "file_extension": ".py",
   "mimetype": "text/x-python",
   "name": "python",
   "nbconvert_exporter": "python",
   "pygments_lexer": "ipython3",
   "version": "3.5.2"
  }
 },
 "nbformat": 4,
 "nbformat_minor": 2
}
