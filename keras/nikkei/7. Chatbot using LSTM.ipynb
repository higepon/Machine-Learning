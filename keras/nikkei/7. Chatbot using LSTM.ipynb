{
 "cells": [
  {
   "cell_type": "markdown",
   "metadata": {},
   "source": [
    "### What is this?\n",
    "For stock prices prediction, we will probably text input or sentiment input.\n",
    "To get familiar with those kind of input, I think it's good to learn them by developing Chatbot.\n",
    "It's also fun :)\n",
    "\n",
    "### Steps\n",
    "- Input data: Use my own twitter data\n",
    "- Shape the input data\n",
    "- Build a model\n",
    "- Train\n",
    "- Test\n",
    "- Visualize\n",
    "\n",
    "### Input Data\n",
    "I'm going to use my own twitter data."
   ]
  },
  {
   "cell_type": "markdown",
   "metadata": {},
   "source": [
    "    # Install mecab\n",
    "    # Thanks to http://qiita.com/taroc/items/b9afd914432da08dafc8\n",
    "    brew install mecab\n",
    "    brew install mecab-ipadic\n",
    "    pip install mecab-python3"
   ]
  },
  {
   "cell_type": "code",
   "execution_count": 9,
   "metadata": {
    "collapsed": false
   },
   "outputs": [
    {
     "name": "stdout",
     "output_type": "stream",
     "text": [
      " , BOS/EOS\n",
      "最近 , 名詞\n",
      "自分 , 名詞\n",
      "は , 助詞\n",
      "どこ , 名詞\n",
      "に , 助詞\n",
      "行こ , 動詞\n",
      "う , 助動詞\n",
      "と , 助詞\n",
      "し , 動詞\n",
      "てる , 動詞\n",
      "ん , 名詞\n",
      "だろ , 助動詞\n",
      "と , 助詞\n",
      "思い , 動詞\n",
      "ながら , 助詞\n",
      "トレーニング , 名詞\n",
      "し , 動詞\n",
      "てる , 動詞\n",
      "😉 , 記号\n",
      " , BOS/EOS\n"
     ]
    }
   ],
   "source": [
    "import MeCab\n",
    "mt = MeCab.Tagger(\"mecabrc\")\n",
    "mt.parse('') # prevent string gc-ed huh?\n",
    "node = mt.parseToNode(\"最近自分はどこに行こうとしてるんだろと思いながらトレーニングしてる😉\")\n",
    "while node:\n",
    "    word = node.surface\n",
    "    pos = node.feature.split(\",\")[0]\n",
    "    print('{0} , {1}'.format(word, pos))\n",
    "    node = node.next"
   ]
  },
  {
   "cell_type": "code",
   "execution_count": 11,
   "metadata": {
    "collapsed": false
   },
   "outputs": [
    {
     "data": {
      "text/plain": [
       "['',\n",
       " '最近',\n",
       " '自分',\n",
       " 'は',\n",
       " 'どこ',\n",
       " 'に',\n",
       " '行こ',\n",
       " 'う',\n",
       " 'と',\n",
       " 'し',\n",
       " 'てる',\n",
       " 'ん',\n",
       " 'だろ',\n",
       " 'と',\n",
       " '思い',\n",
       " 'ながら',\n",
       " 'トレーニング',\n",
       " 'し',\n",
       " 'てる',\n",
       " '😉',\n",
       " '']"
      ]
     },
     "execution_count": 11,
     "metadata": {},
     "output_type": "execute_result"
    }
   ],
   "source": [
    "import MeCab\n",
    "mt = MeCab.Tagger(\"mecabrc\")\n",
    "mt.parse('') # prevent string gc-ed huh?\n",
    "\n",
    "def tokenize(text):\n",
    "    ret = []\n",
    "    node = mt.parseToNode(text)\n",
    "    while node:\n",
    "        word = node.surface\n",
    "        ret.append(word)\n",
    "        node = node.next\n",
    "    return ret\n",
    "\n",
    "tokenize(\"最近自分はどこに行こうとしてるんだろと思いながらトレーニングしてる😉\")"
   ]
  },
  {
   "cell_type": "code",
   "execution_count": null,
   "metadata": {
    "collapsed": true
   },
   "outputs": [],
   "source": []
  }
 ],
 "metadata": {
  "kernelspec": {
   "display_name": "Python 3",
   "language": "python",
   "name": "python3"
  },
  "language_info": {
   "codemirror_mode": {
    "name": "ipython",
    "version": 3
   },
   "file_extension": ".py",
   "mimetype": "text/x-python",
   "name": "python",
   "nbconvert_exporter": "python",
   "pygments_lexer": "ipython3",
   "version": "3.5.2"
  }
 },
 "nbformat": 4,
 "nbformat_minor": 2
}
