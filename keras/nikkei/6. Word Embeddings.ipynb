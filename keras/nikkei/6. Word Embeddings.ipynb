{
 "cells": [
  {
   "cell_type": "markdown",
   "metadata": {},
   "source": [
    "### What is this?\n",
    "In this notebook, I'm playing around Word Embedding by reading [Deep Language Modeling for Question Answering using Keras](http://ben.bolte.cc/blog/2016/keras-language-modeling.html)."
   ]
  },
  {
   "cell_type": "code",
   "execution_count": 3,
   "metadata": {
    "collapsed": false
   },
   "outputs": [
    {
     "name": "stdout",
     "output_type": "stream",
     "text": [
      "sentences ['sam is red', 'hannah not red', 'hannah is green', 'bob is green', 'bob not red', 'sam not green', 'sarah is red', 'sarah not green']\n",
      "is_green [[0]\n",
      " [1]\n",
      " [1]\n",
      " [1]\n",
      " [1]\n",
      " [0]\n",
      " [0]\n",
      " [0]]\n"
     ]
    }
   ],
   "source": [
    "### Run sample code in the URL and add some comments\n",
    "import itertools\n",
    "import numpy as np\n",
    "\n",
    "sentences = '''\n",
    "sam is red\n",
    "hannah not red\n",
    "hannah is green\n",
    "bob is green\n",
    "bob not red\n",
    "sam not green\n",
    "sarah is red\n",
    "sarah not green'''.strip().split('\\n')\n",
    "print(\"sentences\", sentences)\n",
    "\n",
    "# indexes for green ones\n",
    "is_green = np.asarray([[0, 1, 1, 1, 1, 0, 0, 0]], dtype='int32').T\n",
    "print(\"is_green\", is_green)"
   ]
  },
  {
   "cell_type": "code",
   "execution_count": 5,
   "metadata": {
    "collapsed": false
   },
   "outputs": [
    {
     "name": "stdout",
     "output_type": "stream",
     "text": [
      "sentences_lemmatized [['sam', 'is', 'red'], ['hannah', 'not', 'red'], ['hannah', 'is', 'green'], ['bob', 'is', 'green'], ['bob', 'not', 'red'], ['sam', 'not', 'green'], ['sarah', 'is', 'red'], ['sarah', 'not', 'green']]\n",
      "words {'sam', 'sarah', 'red', 'is', 'bob', 'green', 'not', 'hannah'}\n"
     ]
    }
   ],
   "source": [
    "lemma = lambda x: x.strip().lower().split(' ')\n",
    "sentences_lemmatized = [lemma(sentence) for sentence in sentences]\n",
    "print(\"sentences_lemmatized\", sentences_lemmatized)\n",
    "words = set(itertools.chain(*sentences_lemmatized))\n",
    "print(\"words\", words)\n",
    "# set(['boy', 'fed', 'ate', 'cat', 'kicked', 'hat'])"
   ]
  },
  {
   "cell_type": "code",
   "execution_count": 7,
   "metadata": {
    "collapsed": false
   },
   "outputs": [
    {
     "name": "stdout",
     "output_type": "stream",
     "text": [
      "word2idx {'sarah': 1, 'is': 3, 'sam': 0, 'bob': 4, 'not': 6, 'green': 5, 'red': 2, 'hannah': 7}\n",
      "idx2word ['sam', 'sarah', 'red', 'is', 'bob', 'green', 'not', 'hannah']\n"
     ]
    }
   ],
   "source": [
    "# dictionaries for converting words to integers and vice versa\n",
    "word2idx = dict((v, i) for i, v in enumerate(words))\n",
    "print(\"word2idx\", word2idx)\n",
    "\n",
    "idx2word = list(words)\n",
    "print(\"idx2word\", idx2word)\n"
   ]
  },
  {
   "cell_type": "code",
   "execution_count": 9,
   "metadata": {
    "collapsed": false
   },
   "outputs": [
    {
     "name": "stdout",
     "output_type": "stream",
     "text": [
      "sentences_idx [[0, 3, 2], [7, 6, 2], [7, 3, 5], [4, 3, 5], [4, 6, 2], [0, 6, 5], [1, 3, 2], [1, 6, 5]]\n",
      "sentences_array [[0 3 2]\n",
      " [7 6 2]\n",
      " [7 3 5]\n",
      " [4 3 5]\n",
      " [4 6 2]\n",
      " [0 6 5]\n",
      " [1 3 2]\n",
      " [1 6 5]]\n"
     ]
    }
   ],
   "source": [
    "# convert the sentences a numpy array\n",
    "to_idx = lambda x: [word2idx[word] for word in x]\n",
    "sentences_idx = [to_idx(sentence) for sentence in sentences_lemmatized]\n",
    "print(\"sentences_idx\", sentences_idx)\n",
    "sentences_array = np.asarray(sentences_idx, dtype='int32')\n",
    "print(\"sentences_array\", sentences_array)"
   ]
  },
  {
   "cell_type": "code",
   "execution_count": 11,
   "metadata": {
    "collapsed": true
   },
   "outputs": [],
   "source": [
    "# parameters for the model\n",
    "sentence_maxlen = 3\n",
    "n_words = len(words)\n",
    "n_embed_dims = 3"
   ]
  },
  {
   "cell_type": "code",
   "execution_count": 12,
   "metadata": {
    "collapsed": false
   },
   "outputs": [
    {
     "name": "stderr",
     "output_type": "stream",
     "text": [
      "Using TensorFlow backend.\n"
     ]
    }
   ],
   "source": [
    "# put together a model to predict \n",
    "from keras.layers import Input, Embedding, merge, Flatten, SimpleRNN\n",
    "from keras.models import Model"
   ]
  },
  {
   "cell_type": "code",
   "execution_count": 15,
   "metadata": {
    "collapsed": false
   },
   "outputs": [],
   "source": [
    "input_sentence = Input(shape=(sentence_maxlen,), dtype='int32')\n",
    "\n",
    "# what is n_embed_dims for?\n",
    "input_embedding = Embedding(n_words, n_embed_dims)(input_sentence)\n",
    "color_prediction = SimpleRNN(1)(input_embedding)"
   ]
  },
  {
   "cell_type": "code",
   "execution_count": 22,
   "metadata": {
    "collapsed": false
   },
   "outputs": [
    {
     "name": "stdout",
     "output_type": "stream",
     "text": [
      "compiled\n"
     ]
    }
   ],
   "source": [
    "predict_green = Model(input=[input_sentence], output=[color_prediction])\n",
    "predict_green.compile(optimizer='sgd', loss='binary_crossentropy')\n",
    "print(\"compiled\")"
   ]
  },
  {
   "cell_type": "code",
   "execution_count": 25,
   "metadata": {
    "collapsed": false
   },
   "outputs": [
    {
     "name": "stdout",
     "output_type": "stream",
     "text": [
      "Tensor(\"embedding_4_W/read:0\", shape=(8, 3), dtype=float32)\n"
     ]
    }
   ],
   "source": [
    "# fit the model to predict what color each person is\n",
    "predict_green.fit([sentences_array], [is_green], nb_epoch=500, verbose=0)\n",
    "embeddings = predict_green.layers[1].W.value()\n",
    "print(embeddings)"
   ]
  },
  {
   "cell_type": "code",
   "execution_count": 31,
   "metadata": {
    "collapsed": false
   },
   "outputs": [
    {
     "name": "stdout",
     "output_type": "stream",
     "text": [
      "sam: Tensor(\"strided_slice_15:0\", shape=(3,), dtype=float32)\n",
      "sarah: Tensor(\"strided_slice_16:0\", shape=(3,), dtype=float32)\n",
      "red: Tensor(\"strided_slice_17:0\", shape=(3,), dtype=float32)\n",
      "is: Tensor(\"strided_slice_18:0\", shape=(3,), dtype=float32)\n",
      "bob: Tensor(\"strided_slice_19:0\", shape=(3,), dtype=float32)\n",
      "green: Tensor(\"strided_slice_20:0\", shape=(3,), dtype=float32)\n",
      "not: Tensor(\"strided_slice_21:0\", shape=(3,), dtype=float32)\n",
      "hannah: Tensor(\"strided_slice_22:0\", shape=(3,), dtype=float32)\n"
     ]
    }
   ],
   "source": [
    "# print out the embedding vector associated with each word\n",
    "for i in range(n_words):\n",
    "\tprint('{}: {}'.format(idx2word[i], embeddings[i]))"
   ]
  },
  {
   "cell_type": "markdown",
   "metadata": {},
   "source": [
    "![hoge](http://ben.bolte.cc/resources/attention_rnn/word_vectors.png)"
   ]
  },
  {
   "cell_type": "code",
   "execution_count": null,
   "metadata": {
    "collapsed": true
   },
   "outputs": [],
   "source": []
  }
 ],
 "metadata": {
  "kernelspec": {
   "display_name": "Python 3",
   "language": "python",
   "name": "python3"
  },
  "language_info": {
   "codemirror_mode": {
    "name": "ipython",
    "version": 3
   },
   "file_extension": ".py",
   "mimetype": "text/x-python",
   "name": "python",
   "nbconvert_exporter": "python",
   "pygments_lexer": "ipython3",
   "version": "3.5.2"
  }
 },
 "nbformat": 4,
 "nbformat_minor": 2
}
