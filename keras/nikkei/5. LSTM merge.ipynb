{
 "cells": [
  {
   "cell_type": "markdown",
   "metadata": {},
   "source": [
    "## What is this?\n",
    "Here I try to have 2 input sequences to LSTM"
   ]
  },
  {
   "cell_type": "code",
   "execution_count": 54,
   "metadata": {
    "collapsed": false
   },
   "outputs": [],
   "source": [
    "import sys\n",
    "import os\n",
    "from keras.models import Sequential\n",
    "from keras.layers import Dense\n",
    "from keras.layers import Activation\n",
    "from keras.layers import Dropout\n",
    "from keras.layers import Merge\n",
    "from keras.layers import LSTM\n",
    "from keras.callbacks import ModelCheckpoint\n",
    "from keras.utils import np_utils\n",
    "from keras.utils.visualize_util import plot\n",
    "from matplotlib.pyplot import show, plot\n",
    "import pandas as pd\n",
    "import numpy as np\n",
    "import math\n",
    "import random\n",
    "random.seed(0)\n",
    "\n",
    "model_name = \"lstm_merge\"\n",
    "\n",
    "def weights_dir(model_version):\n",
    "    return \"{0}/Desktop/{1}-{2}\".format(os.environ['HOME'], model_name, model_version)\n",
    "\n",
    "def best_weights_path(model_version):\n",
    "    files = os.listdir(weights_dir(model_version))\n",
    "    files.sort()\n",
    "    return \"{0}/{1}\".format(weights_dir(model_version), files[0])\n",
    "\n",
    "def default_callback_list(model_version):\n",
    "    os.makedirs(weights_dir(model_version), exist_ok=True)\n",
    "    filepath = weights_dir(model_version) + \"/{loss:.4f}\"\n",
    "    checkpoint = ModelCheckpoint(filepath, monitor='loss', verbose=1, save_best_only=True, mode='min')\n",
    "    return [checkpoint]\n"
   ]
  },
  {
   "cell_type": "markdown",
   "metadata": {},
   "source": [
    "## Load data"
   ]
  },
  {
   "cell_type": "code",
   "execution_count": 35,
   "metadata": {
    "collapsed": false
   },
   "outputs": [],
   "source": [
    "def loadData(file):\n",
    "    df = pd.read_csv(\"../../dont_remove_data/{0}\".format(file), header=None, parse_dates=[\"date\"], names=[\"date\", \"price\"], usecols=[0, 1])\n",
    "    df[\"price\"] = df[\"price\"].astype('float32')\n",
    "    df[\"price\"] = df[\"price\"].apply(lambda x: x / 10000)\n",
    "    return df\n"
   ]
  },
  {
   "cell_type": "code",
   "execution_count": 45,
   "metadata": {
    "collapsed": false
   },
   "outputs": [
    {
     "name": "stdout",
     "output_type": "stream",
     "text": [
      "        date   sony  nikkei\n",
      "0 2007-01-04  0.514   1.735\n",
      "1 2007-01-05  0.520   1.731\n",
      "2 2007-01-09  0.540   1.700\n",
      "3 2007-01-10  0.544   1.723\n",
      "4 2007-01-11  0.545   1.698\n",
      "prices.shape (2204, 3)\n"
     ]
    }
   ],
   "source": [
    "# name column to merge\n",
    "sony_prices = loadData(\"sony.csv\")\n",
    "sony_prices.columns = ['date', 'sony']\n",
    "\n",
    "nikkei_prices = loadData(\"nikkei.csv\")\n",
    "nikkei_prices.columns = ['date', 'nikkei']\n",
    "\n",
    "# merge\n",
    "prices = pd.merge(sony_prices, nikkei_prices, on='date')\n",
    "print(prices.head())\n",
    "print(\"prices.shape\", prices.shape)"
   ]
  },
  {
   "cell_type": "code",
   "execution_count": 71,
   "metadata": {
    "collapsed": false
   },
   "outputs": [],
   "source": [
    "nb_prev = 200 # use nb_prev size data as input\n",
    "\n",
    "def inputData(prices):\n",
    "    X = []\n",
    "    Y = []\n",
    "    for i in range(len(prices)-nb_prev):\n",
    "        X.append(prices.iloc[i:i+nb_prev].as_matrix())\n",
    "        mixed_Y_i = np.array([prices.iloc[i+nb_prev], 1 if prices.iloc[i+nb_prev] - prices.iloc[i+nb_prev - 1] > 0 else 0])\n",
    "        Y.append(mixed_Y_i)\n",
    "    X = np.array(X).reshape(-1, nb_prev, 1)\n",
    "    Y = np.array(Y)\n",
    "    \n",
    "    test_size = 0.1\n",
    "    nb_train = int(round(len(X) * (1 - test_size)))\n",
    "    X_train, X_test = X[:nb_train], X[nb_train:]\n",
    "    Y_train, Y_test = Y[:nb_train], Y[nb_train:]    \n",
    "    return X_train, Y_train, X_test, Y_test"
   ]
  },
  {
   "cell_type": "code",
   "execution_count": 72,
   "metadata": {
    "collapsed": false
   },
   "outputs": [
    {
     "name": "stdout",
     "output_type": "stream",
     "text": [
      "nikkei (1804, 200, 1) (1804, 2)\n",
      "sony (1804, 200, 1) (1804, 2)\n"
     ]
    }
   ],
   "source": [
    "X_nikkei_train, Y_nikkei_train, X_nikkei_test, Y_nikkei_test = inputData(prices['nikkei'])\n",
    "X_sony_train, Y_sony_train, X_sony_test, Y_sony_test = inputData(prices['sony'])\n",
    "\n",
    "print(\"nikkei\", X_nikkei_train.shape, Y_nikkei_train.shape)\n",
    "print(\"sony\", X_sony_train.shape, Y_sony_train.shape)\n",
    "\n"
   ]
  },
  {
   "cell_type": "markdown",
   "metadata": {},
   "source": [
    "## Model\n",
    "https://keras.io/getting-started/sequential-model-guide/\n",
    "    \n",
    "    "
   ]
  },
  {
   "cell_type": "code",
   "execution_count": 73,
   "metadata": {
    "collapsed": false
   },
   "outputs": [
    {
     "name": "stdout",
     "output_type": "stream",
     "text": [
      "<bound method Container.summary of <keras.models.Sequential object at 0x11d13bcf8>>\n"
     ]
    }
   ],
   "source": [
    "encoder_a = Sequential()\n",
    "encoder_a.add(LSTM(300, input_shape=(nb_prev, 1)))\n",
    "\n",
    "encoder_b = Sequential()\n",
    "encoder_b.add(LSTM(300, input_shape=(nb_prev, 1)))\n",
    "\n",
    "decoder = Sequential()\n",
    "decoder.add(Merge([encoder_a, encoder_b], mode='concat'))\n",
    "decoder.add(Dense(2))  \n",
    "decoder.add(Activation(\"linear\"))  \n",
    "decoder.compile(loss=\"mean_squared_error\", optimizer=\"adam\")\n",
    "\n",
    "#decoder.compile(loss='categorical_crossentropy',\n",
    "#                optimizer='rmsprop',\n",
    "#                metrics=['accuracy'])\n",
    "print(decoder.summary)\n"
   ]
  },
  {
   "cell_type": "code",
   "execution_count": 75,
   "metadata": {
    "collapsed": false
   },
   "outputs": [
    {
     "name": "stdout",
     "output_type": "stream",
     "text": [
      "Train on 1713 samples, validate on 91 samples\n",
      "Epoch 1/20\n",
      "1200/1713 [====================>.........] - ETA: 32s - loss: 0.1837\b\b\b\b\b\b\b\b\b\b\b\b\b\b\b\b\b\b\b\b\b\b\b\b\b\b\b\b\b\b\b\b\b\b\b\b\b\b\b\b\b\b\b\b\b\b\b\b\b\b\b\b\b\b\b\b\b\b\b\b\b\b\b\b\b\b\b\bEpoch 00000: loss improved from inf to 0.17473, saving model to /Users/higepon/Desktop/lstm_merge-3/0.1747\n",
      "1713/1713 [==============================] - 107s - loss: 0.1747 - val_loss: 0.2948\n",
      "Epoch 2/20\n",
      "1200/1713 [====================>.........] - ETA: 32s - loss: 0.1545\b\b\b\b\b\b\b\b\b\b\b\b\b\b\b\b\b\b\b\b\b\b\b\b\b\b\b\b\b\b\b\b\b\b\b\b\b\b\b\b\b\b\b\b\b\b\b\b\b\b\b\b\b\b\b\b\b\b\b\b\b\b\b\b\b\b\b\bEpoch 00001: loss improved from 0.17473 to 0.15294, saving model to /Users/higepon/Desktop/lstm_merge-3/0.1529\n",
      "1713/1713 [==============================] - 103s - loss: 0.1529 - val_loss: 0.1845\n",
      "Epoch 3/20\n",
      "1200/1713 [====================>.........] - ETA: 37s - loss: 0.1396\b\b\b\b\b\b\b\b\b\b\b\b\b\b\b\b\b\b\b\b\b\b\b\b\b\b\b\b\b\b\b\b\b\b\b\b\b\b\b\b\b\b\b\b\b\b\b\b\b\b\b\b\b\b\b\b\b\b\b\b\b\b\b\b\b\b\b\bEpoch 00002: loss improved from 0.15294 to 0.13891, saving model to /Users/higepon/Desktop/lstm_merge-3/0.1389\n",
      "1713/1713 [==============================] - 118s - loss: 0.1389 - val_loss: 0.1543\n",
      "Epoch 4/20\n",
      "1200/1713 [====================>.........] - ETA: 33s - loss: 0.1395\b\b\b\b\b\b\b\b\b\b\b\b\b\b\b\b\b\b\b\b\b\b\b\b\b\b\b\b\b\b\b\b\b\b\b\b\b\b\b\b\b\b\b\b\b\b\b\b\b\b\b\b\b\b\b\b\b\b\b\b\b\b\b\b\b\b\b\bEpoch 00003: loss did not improve\n",
      "1713/1713 [==============================] - 115s - loss: 0.1396 - val_loss: 0.1779\n",
      "Epoch 5/20\n",
      "1200/1713 [====================>.........] - ETA: 34s - loss: 0.1355\b\b\b\b\b\b\b\b\b\b\b\b\b\b\b\b\b\b\b\b\b\b\b\b\b\b\b\b\b\b\b\b\b\b\b\b\b\b\b\b\b\b\b\b\b\b\b\b\b\b\b\b\b\b\b\b\b\b\b\b\b\b\b\b\b\b\b\bEpoch 00004: loss improved from 0.13891 to 0.13453, saving model to /Users/higepon/Desktop/lstm_merge-3/0.1345\n",
      "1713/1713 [==============================] - 109s - loss: 0.1345 - val_loss: 0.1557\n",
      "Epoch 6/20\n",
      "1200/1713 [====================>.........] - ETA: 30s - loss: 0.1325\b\b\b\b\b\b\b\b\b\b\b\b\b\b\b\b\b\b\b\b\b\b\b\b\b\b\b\b\b\b\b\b\b\b\b\b\b\b\b\b\b\b\b\b\b\b\b\b\b\b\b\b\b\b\b\b\b\b\b\b\b\b\b\b\b\b\b\bEpoch 00005: loss improved from 0.13453 to 0.13301, saving model to /Users/higepon/Desktop/lstm_merge-3/0.1330\n",
      "1713/1713 [==============================] - 103s - loss: 0.1330 - val_loss: 0.1380\n",
      "Epoch 7/20\n",
      "1200/1713 [====================>.........] - ETA: 31s - loss: 0.1314\b\b\b\b\b\b\b\b\b\b\b\b\b\b\b\b\b\b\b\b\b\b\b\b\b\b\b\b\b\b\b\b\b\b\b\b\b\b\b\b\b\b\b\b\b\b\b\b\b\b\b\b\b\b\b\b\b\b\b\b\b\b\b\b\b\b\b\bEpoch 00006: loss improved from 0.13301 to 0.13016, saving model to /Users/higepon/Desktop/lstm_merge-3/0.1302\n",
      "1713/1713 [==============================] - 104s - loss: 0.1302 - val_loss: 0.1413\n",
      "Epoch 8/20\n",
      "1200/1713 [====================>.........] - ETA: 30s - loss: 0.1296\b\b\b\b\b\b\b\b\b\b\b\b\b\b\b\b\b\b\b\b\b\b\b\b\b\b\b\b\b\b\b\b\b\b\b\b\b\b\b\b\b\b\b\b\b\b\b\b\b\b\b\b\b\b\b\b\b\b\b\b\b\b\b\b\b\b\b\bEpoch 00007: loss improved from 0.13016 to 0.12969, saving model to /Users/higepon/Desktop/lstm_merge-3/0.1297\n",
      "1713/1713 [==============================] - 102s - loss: 0.1297 - val_loss: 0.1386\n",
      "Epoch 9/20\n",
      "1200/1713 [====================>.........] - ETA: 30s - loss: 0.1295\b\b\b\b\b\b\b\b\b\b\b\b\b\b\b\b\b\b\b\b\b\b\b\b\b\b\b\b\b\b\b\b\b\b\b\b\b\b\b\b\b\b\b\b\b\b\b\b\b\b\b\b\b\b\b\b\b\b\b\b\b\b\b\b\b\b\b\bEpoch 00008: loss improved from 0.12969 to 0.12833, saving model to /Users/higepon/Desktop/lstm_merge-3/0.1283\n",
      "1713/1713 [==============================] - 100s - loss: 0.1283 - val_loss: 0.1266\n",
      "Epoch 10/20\n",
      "1200/1713 [====================>.........] - ETA: 30s - loss: 0.1274\b\b\b\b\b\b\b\b\b\b\b\b\b\b\b\b\b\b\b\b\b\b\b\b\b\b\b\b\b\b\b\b\b\b\b\b\b\b\b\b\b\b\b\b\b\b\b\b\b\b\b\b\b\b\b\b\b\b\b\b\b\b\b\b\b\b\b\bEpoch 00009: loss improved from 0.12833 to 0.12682, saving model to /Users/higepon/Desktop/lstm_merge-3/0.1268\n",
      "1713/1713 [==============================] - 98s - loss: 0.1268 - val_loss: 0.1261\n",
      "Epoch 11/20\n",
      "1200/1713 [====================>.........] - ETA: 30s - loss: 0.1272\b\b\b\b\b\b\b\b\b\b\b\b\b\b\b\b\b\b\b\b\b\b\b\b\b\b\b\b\b\b\b\b\b\b\b\b\b\b\b\b\b\b\b\b\b\b\b\b\b\b\b\b\b\b\b\b\b\b\b\b\b\b\b\b\b\b\b\bEpoch 00010: loss improved from 0.12682 to 0.12680, saving model to /Users/higepon/Desktop/lstm_merge-3/0.1268\n",
      "1713/1713 [==============================] - 100s - loss: 0.1268 - val_loss: 0.1279\n",
      "Epoch 12/20\n",
      "1200/1713 [====================>.........] - ETA: 29s - loss: 0.1259\b\b\b\b\b\b\b\b\b\b\b\b\b\b\b\b\b\b\b\b\b\b\b\b\b\b\b\b\b\b\b\b\b\b\b\b\b\b\b\b\b\b\b\b\b\b\b\b\b\b\b\b\b\b\b\b\b\b\b\b\b\b\b\b\b\b\b\bEpoch 00011: loss improved from 0.12680 to 0.12596, saving model to /Users/higepon/Desktop/lstm_merge-3/0.1260\n",
      "1713/1713 [==============================] - 99s - loss: 0.1260 - val_loss: 0.1323\n",
      "Epoch 13/20\n",
      "1200/1713 [====================>.........] - ETA: 30s - loss: 0.1260\b\b\b\b\b\b\b\b\b\b\b\b\b\b\b\b\b\b\b\b\b\b\b\b\b\b\b\b\b\b\b\b\b\b\b\b\b\b\b\b\b\b\b\b\b\b\b\b\b\b\b\b\b\b\b\b\b\b\b\b\b\b\b\b\b\b\b\bEpoch 00012: loss improved from 0.12596 to 0.12595, saving model to /Users/higepon/Desktop/lstm_merge-3/0.1260\n",
      "1713/1713 [==============================] - 101s - loss: 0.1260 - val_loss: 0.1308\n",
      "Epoch 14/20\n",
      "1200/1713 [====================>.........] - ETA: 30s - loss: 0.1259\b\b\b\b\b\b\b\b\b\b\b\b\b\b\b\b\b\b\b\b\b\b\b\b\b\b\b\b\b\b\b\b\b\b\b\b\b\b\b\b\b\b\b\b\b\b\b\b\b\b\b\b\b\b\b\b\b\b\b\b\b\b\b\b\b\b\b\bEpoch 00013: loss improved from 0.12595 to 0.12558, saving model to /Users/higepon/Desktop/lstm_merge-3/0.1256\n",
      "1713/1713 [==============================] - 100s - loss: 0.1256 - val_loss: 0.1289\n",
      "Epoch 15/20\n",
      "1200/1713 [====================>.........] - ETA: 31s - loss: 0.1255\b\b\b\b\b\b\b\b\b\b\b\b\b\b\b\b\b\b\b\b\b\b\b\b\b\b\b\b\b\b\b\b\b\b\b\b\b\b\b\b\b\b\b\b\b\b\b\b\b\b\b\b\b\b\b\b\b\b\b\b\b\b\b\b\b\b\b\bEpoch 00014: loss improved from 0.12558 to 0.12550, saving model to /Users/higepon/Desktop/lstm_merge-3/0.1255\n",
      "1713/1713 [==============================] - 102s - loss: 0.1255 - val_loss: 0.1332\n",
      "Epoch 16/20\n",
      "1200/1713 [====================>.........] - ETA: 32s - loss: 0.1261\b\b\b\b\b\b\b\b\b\b\b\b\b\b\b\b\b\b\b\b\b\b\b\b\b\b\b\b\b\b\b\b\b\b\b\b\b\b\b\b\b\b\b\b\b\b\b\b\b\b\b\b\b\b\b\b\b\b\b\b\b\b\b\b\b\b\b\bEpoch 00015: loss did not improve\n",
      "1713/1713 [==============================] - 106s - loss: 0.1255 - val_loss: 0.1342\n",
      "Epoch 17/20\n",
      "1200/1713 [====================>.........] - ETA: 31s - loss: 0.1255\b\b\b\b\b\b\b\b\b\b\b\b\b\b\b\b\b\b\b\b\b\b\b\b\b\b\b\b\b\b\b\b\b\b\b\b\b\b\b\b\b\b\b\b\b\b\b\b\b\b\b\b\b\b\b\b\b\b\b\b\b\b\b\b\b\b\b\bEpoch 00016: loss improved from 0.12550 to 0.12539, saving model to /Users/higepon/Desktop/lstm_merge-3/0.1254\n",
      "1713/1713 [==============================] - 105s - loss: 0.1254 - val_loss: 0.1312\n",
      "Epoch 18/20\n",
      "1200/1713 [====================>.........] - ETA: 30s - loss: 0.1257\b\b\b\b\b\b\b\b\b\b\b\b\b\b\b\b\b\b\b\b\b\b\b\b\b\b\b\b\b\b\b\b\b\b\b\b\b\b\b\b\b\b\b\b\b\b\b\b\b\b\b\b\b\b\b\b\b\b\b\b\b\b\b\b\b\b\b\bEpoch 00017: loss did not improve\n",
      "1713/1713 [==============================] - 99s - loss: 0.1257 - val_loss: 0.1294\n",
      "Epoch 19/20\n",
      "1200/1713 [====================>.........] - ETA: 30s - loss: 0.1257\b\b\b\b\b\b\b\b\b\b\b\b\b\b\b\b\b\b\b\b\b\b\b\b\b\b\b\b\b\b\b\b\b\b\b\b\b\b\b\b\b\b\b\b\b\b\b\b\b\b\b\b\b\b\b\b\b\b\b\b\b\b\b\b\b\b\b\bEpoch 00018: loss improved from 0.12539 to 0.12533, saving model to /Users/higepon/Desktop/lstm_merge-3/0.1253\n",
      "1713/1713 [==============================] - 103s - loss: 0.1253 - val_loss: 0.1338\n",
      "Epoch 20/20\n",
      "1200/1713 [====================>.........] - ETA: 29s - loss: 0.1258\b\b\b\b\b\b\b\b\b\b\b\b\b\b\b\b\b\b\b\b\b\b\b\b\b\b\b\b\b\b\b\b\b\b\b\b\b\b\b\b\b\b\b\b\b\b\b\b\b\b\b\b\b\b\b\b\b\b\b\b\b\b\b\b\b\b\b\bEpoch 00019: loss did not improve\n",
      "1713/1713 [==============================] - 100s - loss: 0.1256 - val_loss: 0.1301\n"
     ]
    },
    {
     "data": {
      "text/plain": [
       "<keras.callbacks.History at 0x128b1f3c8>"
      ]
     },
     "execution_count": 75,
     "metadata": {},
     "output_type": "execute_result"
    }
   ],
   "source": [
    "model_version = 3\n",
    "decoder.fit([X_sony_train, X_nikkei_train], Y_nikkei_train,\n",
    "            batch_size=600, nb_epoch=20, validation_split=0.05, callbacks=default_callback_list(model_version))\n",
    "\n",
    "    "
   ]
  },
  {
   "cell_type": "code",
   "execution_count": 68,
   "metadata": {
    "collapsed": false
   },
   "outputs": [
    {
     "name": "stdout",
     "output_type": "stream",
     "text": [
      "/Users/higepon/Desktop/lstm_merge-2/0.1426\n",
      "(200, 2)\n"
     ]
    }
   ],
   "source": [
    "print(best_weights_path(model_version))\n",
    "decoder.load_weights(best_weights_path(model_version))   \n",
    "predicted = decoder.predict([X_sony_test, X_nikkei_test])\n",
    "print(predicted.shape)\n"
   ]
  },
  {
   "cell_type": "code",
   "execution_count": 69,
   "metadata": {
    "collapsed": false
   },
   "outputs": [
    {
     "name": "stdout",
     "output_type": "stream",
     "text": [
      "[ 0.58680332  0.5873124   0.58775276  0.58776522  0.58744925  0.58701074\n",
      "  0.58696932  0.58687514  0.58732933  0.58825225  0.58901489  0.58925974\n",
      "  0.58962756  0.58990246  0.59050304  0.59050059  0.59010184  0.590455\n",
      "  0.59089959  0.59079462  0.59082538  0.59134477  0.5915252   0.59174711\n",
      "  0.59197199  0.59239161  0.59298068  0.59336603  0.59397954  0.59440559\n",
      "  0.59461647  0.59450072  0.59396571  0.59381664  0.59425485  0.59465623\n",
      "  0.59502256  0.59528202  0.59614891  0.59611249  0.59651726  0.59611028\n",
      "  0.59562695  0.59583271  0.59575963  0.59640223  0.59628135  0.59624869\n",
      "  0.59616226  0.59607303  0.59617478  0.59599686  0.59591931  0.59602493\n",
      "  0.5961867   0.59646529  0.59669733  0.59679723  0.59709811  0.5973416\n",
      "  0.59741211  0.59741819  0.59759551  0.59795278  0.59796792  0.59748399\n",
      "  0.597637    0.5978083   0.59826046  0.59824544  0.59850019  0.59806377\n",
      "  0.59724486  0.5965963   0.59665358  0.59703296  0.59747332  0.59837699\n",
      "  0.59833443  0.59732413  0.59652323  0.59602821  0.59628195  0.59585297\n",
      "  0.59688723  0.59630483  0.59612477  0.5955925   0.59536088  0.59518373\n",
      "  0.59484088  0.59475106  0.59455121  0.59513229  0.59545916  0.59601128\n",
      "  0.59682268  0.59690434  0.59694356  0.59654295  0.59616876  0.59600395\n",
      "  0.59572351  0.59513462  0.5945608   0.59428197  0.59405333  0.59442478\n",
      "  0.595411    0.59496093  0.5950864   0.59496212  0.5949831   0.59559911\n",
      "  0.59570616  0.59599817  0.59677887  0.59608042  0.59454554  0.59299695\n",
      "  0.59178168  0.591515    0.59201574  0.59121096  0.59035271  0.59009778\n",
      "  0.58878654  0.58783311  0.58574796  0.58567941  0.58585149  0.58604479\n",
      "  0.58577186  0.58496314  0.58458424  0.58487505  0.58501214  0.58409411\n",
      "  0.58352095  0.58345675  0.58230317  0.58127993  0.5811224   0.58114177\n",
      "  0.58148241  0.5816952   0.58262706  0.5825671   0.58312786  0.5836314\n",
      "  0.58349949  0.58335209  0.58379155  0.58414799  0.58432335  0.58490992\n",
      "  0.58521879  0.58568758  0.58631837  0.58668423  0.58716911  0.58725327\n",
      "  0.58808285  0.5883401   0.58830851  0.58839339  0.5881772   0.58843344\n",
      "  0.58897001  0.58966023  0.59018463  0.59060609  0.59054887  0.59056765\n",
      "  0.59046537  0.59057176  0.59068483  0.59116721  0.59131521  0.59170967\n",
      "  0.59190255  0.59150374  0.59138566  0.5913853   0.59201878  0.59169149\n",
      "  0.5918681   0.5918768   0.59203762  0.5914098   0.59126294  0.59139872\n",
      "  0.59041864  0.58971685  0.58987004  0.58966523  0.58921462  0.58891749\n",
      "  0.58852845  0.58788991]\n"
     ]
    }
   ],
   "source": [
    "prices_prediction = predicted[:,0]\n",
    "up_down_prediction = predicted[:,1]\n",
    "print(up_down_prediction)"
   ]
  },
  {
   "cell_type": "code",
   "execution_count": 70,
   "metadata": {
    "collapsed": false
   },
   "outputs": [
    {
     "data": {
      "image/png": "[encoded data removed]",
      "text/plain": [
       "<matplotlib.figure.Figure at 0x12947fd30>"
      ]
     },
     "metadata": {},
     "output_type": "display_data"
    }
   ],
   "source": [
    "dataf =  pd.DataFrame(prices_prediction)\n",
    "dataf.columns = [\"predict\"]\n",
    "dataf[\"target\"] = Y_nikkei_test[:,0]\n",
    "dataf.plot(figsize=(15, 5))\n",
    "show()    "
   ]
  },
  {
   "cell_type": "code",
   "execution_count": null,
   "metadata": {
    "collapsed": true
   },
   "outputs": [],
   "source": []
  }
 ],
 "metadata": {
  "kernelspec": {
   "display_name": "Python 3",
   "language": "python",
   "name": "python3"
  },
  "language_info": {
   "codemirror_mode": {
    "name": "ipython",
    "version": 3
   },
   "file_extension": ".py",
   "mimetype": "text/x-python",
   "name": "python",
   "nbconvert_exporter": "python",
   "pygments_lexer": "ipython3",
   "version": "3.5.2"
  }
 },
 "nbformat": 4,
 "nbformat_minor": 2
}
