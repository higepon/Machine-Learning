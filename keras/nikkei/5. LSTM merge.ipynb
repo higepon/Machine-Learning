{
 "cells": [
  {
   "cell_type": "markdown",
   "metadata": {},
   "source": [
    "## What is this?\n",
    "Here I try to have 2 input sequences to LSTM"
   ]
  },
  {
   "cell_type": "code",
   "execution_count": 2,
   "metadata": {
    "collapsed": false
   },
   "outputs": [],
   "source": [
    "import sys\n",
    "import os\n",
    "from keras.models import Sequential\n",
    "from keras.layers import Dense\n",
    "from keras.layers import Activation\n",
    "from keras.layers import Dropout\n",
    "from keras.layers import LSTM\n",
    "from keras.callbacks import ModelCheckpoint\n",
    "from keras.utils import np_utils\n",
    "from keras.utils.visualize_util import plot\n",
    "from matplotlib.pyplot import show, plot\n",
    "import pandas as pd\n",
    "import numpy as np\n",
    "import math\n",
    "import random\n",
    "random.seed(0)\n",
    "\n",
    "model_name = \"lstm_merge\"\n",
    "\n",
    "def weights_dir(model_version):\n",
    "    return \"{0}/Desktop/{1}-{2}\".format(os.environ['HOME'], model_name, model_version)\n",
    "\n",
    "def best_weights_path(model_version):\n",
    "    files = os.listdir(weights_dir(model_version))\n",
    "    files.sort()\n",
    "    return \"{0}/{1}\".format(weights_dir(model_version), files[0])\n",
    "\n",
    "def default_callback_list(model_version):\n",
    "    os.makedirs(weights_dir(model_version), exist_ok=True)\n",
    "    filepath = weights_dir(model_version) + \"/{loss:.4f}\"\n",
    "    checkpoint = ModelCheckpoint(filepath, monitor='loss', verbose=1, save_best_only=True, mode='min')\n",
    "    return [checkpoint]\n"
   ]
  },
  {
   "cell_type": "markdown",
   "metadata": {},
   "source": [
    "## Load data"
   ]
  },
  {
   "cell_type": "code",
   "execution_count": 32,
   "metadata": {
    "collapsed": false
   },
   "outputs": [
    {
     "name": "stdout",
     "output_type": "stream",
     "text": [
      "<bound method NDFrame.head of            date     sony  nikkei\n",
      "0    2007-01-04  0.51400   1.735\n",
      "1    2007-01-05  0.52000   1.731\n",
      "2    2007-01-09  0.54000   1.700\n",
      "3    2007-01-10  0.54400   1.723\n",
      "4    2007-01-11  0.54500   1.698\n",
      "5    2007-01-12  0.55100   1.701\n",
      "6    2007-01-15  0.57000   1.715\n",
      "7    2007-01-16  0.56800   1.722\n",
      "8    2007-01-17  0.56100   1.715\n",
      "9    2007-01-18  0.56300   1.723\n",
      "10   2007-01-19  0.56500   1.735\n",
      "11   2007-01-22  0.57000   1.746\n",
      "12   2007-01-23  0.56100   1.735\n",
      "13   2007-01-24  0.56600   1.752\n",
      "14   2007-01-25  0.57100   1.763\n",
      "15   2007-01-26  0.57400   1.740\n",
      "16   2007-01-29  0.57400   1.738\n",
      "17   2007-01-30  0.57100   1.752\n",
      "18   2007-01-31  0.56300   1.749\n",
      "19   2007-02-01  0.55700   1.739\n",
      "20   2007-02-02  0.57300   1.758\n",
      "21   2007-02-05  0.57900   1.753\n",
      "22   2007-02-06  0.57600   1.741\n",
      "23   2007-02-07  0.58000   1.736\n",
      "24   2007-02-08  0.58500   1.739\n",
      "25   2007-02-09  0.58800   1.733\n",
      "26   2007-02-13  0.59300   1.746\n",
      "27   2007-02-14  0.60800   1.765\n",
      "28   2007-02-15  0.62500   1.793\n",
      "29   2007-02-16  0.61300   1.782\n",
      "...         ...      ...     ...\n",
      "2174 2015-11-17  0.33570   1.944\n",
      "2175 2015-11-18  0.33120   1.966\n",
      "2176 2015-11-19  0.33340   1.971\n",
      "2177 2015-11-20  0.32770   1.990\n",
      "2178 2015-11-24  0.32760   1.989\n",
      "2179 2015-11-25  0.32990   1.997\n",
      "2180 2015-11-26  0.32900   1.985\n",
      "2181 2015-11-27  0.32850   1.996\n",
      "2182 2015-11-30  0.32310   1.983\n",
      "2183 2015-12-01  0.32010   1.978\n",
      "2184 2015-12-02  0.31440   2.001\n",
      "2185 2015-12-03  0.31350   1.996\n",
      "2186 2015-12-04  0.31100   1.992\n",
      "2187 2015-12-07  0.31230   1.950\n",
      "2188 2015-12-08  0.31120   1.976\n",
      "2189 2015-12-09  0.30330   1.951\n",
      "2190 2015-12-10  0.29950   1.935\n",
      "2191 2015-12-11  0.29900   1.902\n",
      "2192 2015-12-14  0.29500   1.919\n",
      "2193 2015-12-15  0.29915   1.892\n",
      "2194 2015-12-16  0.30010   1.860\n",
      "2195 2015-12-17  0.31150   1.907\n",
      "2196 2015-12-18  0.30770   1.935\n",
      "2197 2015-12-21  0.29510   1.900\n",
      "2198 2015-12-22  0.29505   1.885\n",
      "2199 2015-12-24  0.30000   1.887\n",
      "2200 2015-12-25  0.29285   1.880\n",
      "2201 2015-12-28  0.29450   1.873\n",
      "2202 2015-12-29  0.29700   1.891\n",
      "2203 2015-12-30  0.29865   1.899\n",
      "\n",
      "[2204 rows x 3 columns]>\n",
      "sony_prices.shape (2449, 2)\n",
      "\n"
     ]
    }
   ],
   "source": [
    "def loadData(file):\n",
    "    df = pd.read_csv(\"../../dont_remove_data/{0}\".format(file), header=None, parse_dates=[\"date\"], names=[\"date\", \"price\"], usecols=[0, 1])\n",
    "    df[\"price\"] = df[\"price\"].astype('float32')\n",
    "    df[\"price\"] = df[\"price\"].apply(lambda x: x / 10000)\n",
    "    return df\n",
    "\n",
    "# name column to merge\n",
    "sony_prices = loadData(\"sony.csv\")\n",
    "sony_prices.columns = ['date', 'sony']\n",
    "\n",
    "nikkei_prices = loadData(\"nikkei.csv\")\n",
    "nikkei_prices.columns = ['date', 'nikkei']\n",
    "\n",
    "# merge\n",
    "prices = pd.merge(sony_prices, nikkei_prices, on='date')\n",
    "print(prices.head)\n",
    "print(\"sony_prices.shape\", sony_prices.shape)\n",
    "print()\n",
    "\n"
   ]
  },
  {
   "cell_type": "code",
   "execution_count": null,
   "metadata": {
    "collapsed": true
   },
   "outputs": [],
   "source": []
  }
 ],
 "metadata": {
  "kernelspec": {
   "display_name": "Python 3",
   "language": "python",
   "name": "python3"
  },
  "language_info": {
   "codemirror_mode": {
    "name": "ipython",
    "version": 3
   },
   "file_extension": ".py",
   "mimetype": "text/x-python",
   "name": "python",
   "nbconvert_exporter": "python",
   "pygments_lexer": "ipython3",
   "version": "3.5.2"
  }
 },
 "nbformat": 4,
 "nbformat_minor": 2
}
