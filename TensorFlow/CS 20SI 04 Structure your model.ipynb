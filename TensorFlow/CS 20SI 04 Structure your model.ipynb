{
 "cells": [
  {
   "cell_type": "code",
   "execution_count": 2,
   "metadata": {
    "collapsed": false
   },
   "outputs": [],
   "source": [
    "from __future__ import absolute_import\n",
    "from __future__ import division\n",
    "from __future__ import print_function\n",
    "\n",
    "import numpy as np\n",
    "import tensorflow as tf\n",
    "from tensorflow.contrib.tensorboard.plugins import projector\n",
    "\n",
    "from process_data import process_data\n",
    "\n",
    "VOCAB_SIZE = 50000\n",
    "BATCH_SIZE = 128\n",
    "EMBED_SIZE = 128 # dimension of the word embedding vectors\n",
    "SKIP_WINDOW = 1 # the context window\n",
    "NUM_SAMPLED = 64    # Number of negative examples to sample.\n",
    "LEARNING_RATE = 1.0\n",
    "NUM_TRAIN_STEPS = 10000\n",
    "SKIP_STEP = 2000 # how many steps to skip before reporting the loss"
   ]
  },
  {
   "cell_type": "code",
   "execution_count": 42,
   "metadata": {
    "collapsed": false
   },
   "outputs": [],
   "source": [
    "\n",
    "def word2vec(batch_gen):\n",
    "    \"\"\" Build the graph for word2vec model and train it \"\"\"\n",
    "    # Step 1: define the placeholders for input and output\n",
    "    # center_words have to be int to work on embedding lookup\n",
    "    with tf.name_scope('data'):\n",
    "        center_words = tf.placeholder(tf.int32, shape=[BATCH_SIZE], name='center_words')\n",
    "        target_words = tf.placeholder(tf.int32, shape=[BATCH_SIZE, 1], name='target_words')\n",
    "\n",
    "    # TO DO\n",
    "\n",
    "    # Step 2: define weights. In word2vec, it's actually the weights that we care about\n",
    "    # vocab size x embed size\n",
    "    # initialized to random uniform -1 to 1\n",
    "    with tf.name_scope('embed'):\n",
    "        embed_matrix = tf.Variable(tf.random_uniform([VOCAB_SIZE, EMBED_SIZE], -1.0, 1.0), name='embed_matrix')\n",
    "\n",
    "    # TOO DO\n",
    "\n",
    "    # Step 3: define the inference\n",
    "    # get the embed of input words using tf.nn.embedding_lookup\n",
    "    with tf.name_scope('loss'):\n",
    "        embed = tf.nn.embedding_lookup(embed_matrix, center_words, name='embed')\n",
    "\n",
    "    # TO DO\n",
    "\n",
    "    # Step 4: construct variables for NCE loss\n",
    "    # tf.nn.nce_loss(weights, biases, labels, inputs, num_sampled, num_classes, ...)\n",
    "    # nce_weight (vocab size x embed size), intialized to truncated_normal stddev=1.0 / (EMBED_SIZE ** 0.5)\n",
    "    # bias: vocab size, initialized to 0\n",
    "        nce_weight = tf.Variable(tf.truncated_normal([VOCAB_SIZE, EMBED_SIZE], stddev=1.0 / EMBED_SIZE ** 0.5), name='nce_weight')\n",
    "        nce_bias = tf.Variable(tf.zeros([VOCAB_SIZE]), name='nce_bias')\n",
    "\n",
    "    # TO DO\n",
    "\n",
    "    # define loss function to be NCE loss function\n",
    "    # tf.nn.nce_loss(weights, biases, labels, inputs, num_sampled, num_classes, ...)\n",
    "    # need to get the mean accross the batch\n",
    "        loss = tf.reduce_mean(tf.nn.nce_loss(weights=nce_weight,\n",
    "                                            biases=nce_bias,\n",
    "                                            labels=target_words,\n",
    "                                            inputs=embed,\n",
    "                                            num_sampled=NUM_SAMPLED,\n",
    "                                            num_classes=VOCAB_SIZE))\n",
    "\n",
    "\n",
    "    # TO DO\n",
    "\n",
    "    # Step 5: define optimizer\n",
    "    optimizer = tf.train.GradientDescentOptimizer(LEARNING_RATE).minimize(loss)\n",
    "    \n",
    "    # TO DO\n",
    "\n",
    "    with tf.Session() as sess:\n",
    "        # TO DO: initialize variables\n",
    "        sess.run(tf.global_variables_initializer())\n",
    "\n",
    "        total_loss = 0.0 # we use this to calculate the average loss in the last SKIP_STEP steps\n",
    "        writer = tf.summary.FileWriter('./my_graph/no_frills/', sess.graph)\n",
    "        for index in range(NUM_TRAIN_STEPS):\n",
    "            centers, targets = batch_gen.__next__()\n",
    "            # TO DO: create feed_dict, run optimizer, fetch loss_batch\n",
    "            _, loss_batch = sess.run([optimizer, loss], {center_words: centers, target_words: targets})\n",
    "\n",
    "            total_loss += loss_batch\n",
    "            if (index + 1) % SKIP_STEP == 0:\n",
    "                print('Average loss at step {}: {:5.1f}'.format(index, total_loss / SKIP_STEP))\n",
    "                total_loss = 0.0\n",
    "        writer.close()\n",
    "        return sess.run(embed_matrix)\n",
    "\n"
   ]
  },
  {
   "cell_type": "code",
   "execution_count": 43,
   "metadata": {
    "collapsed": false
   },
   "outputs": [
    {
     "name": "stdout",
     "output_type": "stream",
     "text": [
      "Dataset ready\n",
      "Average loss at step 1999: 113.6\n",
      "Average loss at step 3999:  52.9\n",
      "Average loss at step 5999:  33.3\n",
      "Average loss at step 7999:  23.0\n",
      "Average loss at step 9999:  17.9\n"
     ]
    }
   ],
   "source": [
    "batch_gen = process_data(VOCAB_SIZE, BATCH_SIZE, SKIP_WINDOW)\n",
    "embed_matrix = word2vec(batch_gen)\n",
    "\n"
   ]
  },
  {
   "cell_type": "code",
   "execution_count": null,
   "metadata": {
    "collapsed": true
   },
   "outputs": [],
   "source": []
  }
 ],
 "metadata": {
  "kernelspec": {
   "display_name": "Python 3",
   "language": "python",
   "name": "python3"
  },
  "language_info": {
   "codemirror_mode": {
    "name": "ipython",
    "version": 3
   },
   "file_extension": ".py",
   "mimetype": "text/x-python",
   "name": "python",
   "nbconvert_exporter": "python",
   "pygments_lexer": "ipython3",
   "version": "3.5.2"
  }
 },
 "nbformat": 4,
 "nbformat_minor": 2
}
